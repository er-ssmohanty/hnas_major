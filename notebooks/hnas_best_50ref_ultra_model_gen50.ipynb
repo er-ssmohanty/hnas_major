{
 "cells": [
  {
   "cell_type": "code",
   "execution_count": 1,
   "id": "ae87dd9b-8ebe-4798-9f8b-939cbcb0ac3d",
   "metadata": {
    "execution": {
     "iopub.execute_input": "2023-04-30T07:40:11.384453Z",
     "iopub.status.busy": "2023-04-30T07:40:11.383628Z",
     "iopub.status.idle": "2023-04-30T07:40:14.558270Z",
     "shell.execute_reply": "2023-04-30T07:40:14.555154Z",
     "shell.execute_reply.started": "2023-04-30T07:40:11.384424Z"
    }
   },
   "outputs": [],
   "source": [
    "import os\n",
    "import keras\n",
    "from tensorflow.keras.preprocessing import image_dataset_from_directory\n",
    "from keras.models import load_model\n",
    "from keras.preprocessing.image import ImageDataGenerator\n",
    "from keras.callbacks import EarlyStopping"
   ]
  },
  {
   "cell_type": "code",
   "execution_count": 2,
   "id": "f4d75781-25f6-4a39-ab60-48c1985d6e5f",
   "metadata": {
    "execution": {
     "iopub.execute_input": "2023-04-30T07:40:14.562036Z",
     "iopub.status.busy": "2023-04-30T07:40:14.559642Z",
     "iopub.status.idle": "2023-04-30T07:40:16.664349Z",
     "shell.execute_reply": "2023-04-30T07:40:16.662257Z",
     "shell.execute_reply.started": "2023-04-30T07:40:14.562036Z"
    }
   },
   "outputs": [
    {
     "name": "stdout",
     "output_type": "stream",
     "text": [
      "Found 3200 files belonging to 2 classes.\n",
      "Using 2240 files for training.\n",
      "Found 3200 files belonging to 2 classes.\n",
      "Using 960 files for validation.\n",
      "Found 200 files belonging to 2 classes.\n"
     ]
    }
   ],
   "source": [
    "image_shape=(227,227)\n",
    "train_dir='/notebooks/ultrasound_50_referred/trainval'\n",
    "validation_dir=train_dir\n",
    "test_dir=\"/notebooks/ultrasound_50_referred/test\"\n",
    "batch_size=64\n",
    "test_train_split=0.3\n",
    "\n",
    "train_data = image_dataset_from_directory(\\\n",
    "      train_dir,color_mode=\"grayscale\",image_size=image_shape ,\\\n",
    "      subset='training',seed=5, validation_split=test_train_split,\\\n",
    "      batch_size=batch_size)\n",
    "validation_data = image_dataset_from_directory(validation_dir,\n",
    "      color_mode=\"grayscale\",image_size=image_shape, subset='validation',seed=5,\\\n",
    "      validation_split=test_train_split,batch_size=batch_size)\n",
    "test_data = image_dataset_from_directory(test_dir,\n",
    "      color_mode=\"grayscale\",image_size=image_shape, batch_size=batch_size)\n"
   ]
  },
  {
   "cell_type": "code",
   "execution_count": 3,
   "id": "9da8979c-4858-4bc1-a048-faf6e1e478ee",
   "metadata": {
    "execution": {
     "iopub.execute_input": "2023-04-30T07:40:16.667331Z",
     "iopub.status.busy": "2023-04-30T07:40:16.666710Z",
     "iopub.status.idle": "2023-04-30T07:40:17.917421Z",
     "shell.execute_reply": "2023-04-30T07:40:17.916217Z",
     "shell.execute_reply.started": "2023-04-30T07:40:16.667331Z"
    }
   },
   "outputs": [],
   "source": [
    "model=load_model('/notebooks/hnas_major/models/hnas_50ref_ultra_fcn_1')"
   ]
  },
  {
   "cell_type": "code",
   "execution_count": 4,
   "id": "5a773f11-b208-4cef-9acc-4a8b396f5036",
   "metadata": {
    "execution": {
     "iopub.execute_input": "2023-04-30T07:40:17.922982Z",
     "iopub.status.busy": "2023-04-30T07:40:17.922419Z",
     "iopub.status.idle": "2023-04-30T07:40:17.979630Z",
     "shell.execute_reply": "2023-04-30T07:40:17.978260Z",
     "shell.execute_reply.started": "2023-04-30T07:40:17.922938Z"
    }
   },
   "outputs": [
    {
     "name": "stdout",
     "output_type": "stream",
     "text": [
      "Model: \"sequential_30\"\n",
      "_________________________________________________________________\n",
      " Layer (type)                Output Shape              Param #   \n",
      "=================================================================\n",
      " batch_normalization_60 (Bat  (None, 227, 227, 1)      4         \n",
      " chNormalization)                                                \n",
      "                                                                 \n",
      " conv2d_234 (Conv2D)         (None, 224, 224, 80)      1360      \n",
      "                                                                 \n",
      " max_pooling2d_123 (MaxPooli  (None, 112, 112, 80)     0         \n",
      " ng2D)                                                           \n",
      "                                                                 \n",
      " conv2d_235 (Conv2D)         (None, 110, 110, 355)     255955    \n",
      "                                                                 \n",
      " max_pooling2d_124 (MaxPooli  (None, 55, 55, 355)      0         \n",
      " ng2D)                                                           \n",
      "                                                                 \n",
      " conv2d_236 (Conv2D)         (None, 52, 52, 366)       2079246   \n",
      "                                                                 \n",
      " conv2d_237 (Conv2D)         (None, 48, 48, 458)       4191158   \n",
      "                                                                 \n",
      " max_pooling2d_125 (MaxPooli  (None, 24, 24, 458)      0         \n",
      " ng2D)                                                           \n",
      "                                                                 \n",
      " conv2d_238 (Conv2D)         (None, 20, 20, 253)       2897103   \n",
      "                                                                 \n",
      " conv2d_239 (Conv2D)         (None, 16, 16, 34)        215084    \n",
      "                                                                 \n",
      " max_pooling2d_126 (MaxPooli  (None, 15, 15, 34)       0         \n",
      " ng2D)                                                           \n",
      "                                                                 \n",
      " conv2d_240 (Conv2D)         (None, 11, 11, 276)       234876    \n",
      "                                                                 \n",
      " dropout_60 (Dropout)        (None, 11, 11, 276)       0         \n",
      "                                                                 \n",
      " conv2d_241 (Conv2D)         (None, 11, 11, 1)         277       \n",
      "                                                                 \n",
      " dropout_61 (Dropout)        (None, 11, 11, 1)         0         \n",
      "                                                                 \n",
      " batch_normalization_61 (Bat  (None, 11, 11, 1)        4         \n",
      " chNormalization)                                                \n",
      "                                                                 \n",
      " global_max_pooling2d_30 (Gl  (None, 1)                0         \n",
      " obalMaxPooling2D)                                               \n",
      "                                                                 \n",
      " activation_30 (Activation)  (None, 1)                 0         \n",
      "                                                                 \n",
      "=================================================================\n",
      "Total params: 9,875,067\n",
      "Trainable params: 9,875,063\n",
      "Non-trainable params: 4\n",
      "_________________________________________________________________\n"
     ]
    }
   ],
   "source": [
    "model.summary()"
   ]
  },
  {
   "cell_type": "code",
   "execution_count": 5,
   "id": "e09c5173-aed1-481a-91f1-9546c32e27e6",
   "metadata": {
    "execution": {
     "iopub.execute_input": "2023-04-30T07:40:17.983586Z",
     "iopub.status.busy": "2023-04-30T07:40:17.983120Z",
     "iopub.status.idle": "2023-04-30T07:40:17.989920Z",
     "shell.execute_reply": "2023-04-30T07:40:17.988098Z",
     "shell.execute_reply.started": "2023-04-30T07:40:17.983546Z"
    }
   },
   "outputs": [],
   "source": [
    "callback = keras.callbacks.EarlyStopping(monitor='val_loss', patience=5)"
   ]
  },
  {
   "cell_type": "code",
   "execution_count": 6,
   "id": "9c57af54-e455-4db9-8255-0ee190878a35",
   "metadata": {
    "execution": {
     "iopub.execute_input": "2023-04-30T07:40:17.992083Z",
     "iopub.status.busy": "2023-04-30T07:40:17.992083Z",
     "iopub.status.idle": "2023-04-30T07:44:27.499683Z",
     "shell.execute_reply": "2023-04-30T07:44:27.499683Z",
     "shell.execute_reply.started": "2023-04-30T07:40:17.992083Z"
    }
   },
   "outputs": [
    {
     "name": "stdout",
     "output_type": "stream",
     "text": [
      "Epoch 1/100\n",
      "35/35 [==============================] - 42s 937ms/step - loss: 0.2904 - binary_accuracy: 0.9277 - val_loss: 0.5871 - val_binary_accuracy: 0.6385\n",
      "Epoch 2/100\n",
      "35/35 [==============================] - 31s 878ms/step - loss: 0.2803 - binary_accuracy: 0.9277 - val_loss: 0.2882 - val_binary_accuracy: 0.9510\n",
      "Epoch 3/100\n",
      "35/35 [==============================] - 31s 879ms/step - loss: 0.2442 - binary_accuracy: 0.9540 - val_loss: 0.4179 - val_binary_accuracy: 0.8948\n",
      "Epoch 4/100\n",
      "35/35 [==============================] - 31s 877ms/step - loss: 0.2154 - binary_accuracy: 0.9661 - val_loss: 0.5915 - val_binary_accuracy: 0.6313\n",
      "Epoch 5/100\n",
      "35/35 [==============================] - 31s 876ms/step - loss: 0.2249 - binary_accuracy: 0.9598 - val_loss: 0.4031 - val_binary_accuracy: 0.9000\n",
      "Epoch 6/100\n",
      "35/35 [==============================] - 31s 875ms/step - loss: 0.2069 - binary_accuracy: 0.9621 - val_loss: 0.3762 - val_binary_accuracy: 0.9302\n",
      "Epoch 7/100\n",
      "35/35 [==============================] - 33s 940ms/step - loss: 0.1839 - binary_accuracy: 0.9754 - val_loss: 0.4607 - val_binary_accuracy: 0.8177\n"
     ]
    }
   ],
   "source": [
    "history = model.fit(train_data,\n",
    "            epochs=100,\n",
    "            validation_data=validation_data,callbacks=[callback])"
   ]
  },
  {
   "cell_type": "code",
   "execution_count": 7,
   "id": "a055d183-74b7-47fa-a250-d134bd09f774",
   "metadata": {
    "execution": {
     "iopub.execute_input": "2023-04-30T07:44:27.502353Z",
     "iopub.status.busy": "2023-04-30T07:44:27.501625Z",
     "iopub.status.idle": "2023-04-30T07:44:30.552981Z",
     "shell.execute_reply": "2023-04-30T07:44:30.551129Z",
     "shell.execute_reply.started": "2023-04-30T07:44:27.502353Z"
    }
   },
   "outputs": [
    {
     "name": "stdout",
     "output_type": "stream",
     "text": [
      "15/15 [==============================] - 3s 185ms/step - loss: 0.4607 - binary_accuracy: 0.8177\n",
      "validation loss, validation acc: [0.46074485778808594, 0.8177083134651184]\n"
     ]
    }
   ],
   "source": [
    "results = model.evaluate(validation_data)\n",
    "print(\"validation loss, validation acc:\", results)"
   ]
  },
  {
   "cell_type": "code",
   "execution_count": 8,
   "id": "de323b47-a674-4010-a930-ef4fda19e116",
   "metadata": {
    "execution": {
     "iopub.execute_input": "2023-04-30T07:44:30.554878Z",
     "iopub.status.busy": "2023-04-30T07:44:30.554380Z",
     "iopub.status.idle": "2023-04-30T07:44:31.847175Z",
     "shell.execute_reply": "2023-04-30T07:44:31.846065Z",
     "shell.execute_reply.started": "2023-04-30T07:44:30.554760Z"
    }
   },
   "outputs": [
    {
     "name": "stdout",
     "output_type": "stream",
     "text": [
      "4/4 [==============================] - 1s 304ms/step - loss: 0.4574 - binary_accuracy: 0.8200\n",
      "test loss, test acc: [0.4573812484741211, 0.8199999928474426]\n"
     ]
    }
   ],
   "source": [
    "results = model.evaluate(test_data)\n",
    "print(\"test loss, test acc:\", results)"
   ]
  }
 ],
 "metadata": {
  "kernelspec": {
   "display_name": "Python 3 (ipykernel)",
   "language": "python",
   "name": "python3"
  },
  "language_info": {
   "codemirror_mode": {
    "name": "ipython",
    "version": 3
   },
   "file_extension": ".py",
   "mimetype": "text/x-python",
   "name": "python",
   "nbconvert_exporter": "python",
   "pygments_lexer": "ipython3",
   "version": "3.9.16"
  }
 },
 "nbformat": 4,
 "nbformat_minor": 5
}
