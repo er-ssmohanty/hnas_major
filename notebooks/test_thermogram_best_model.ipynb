{
 "cells": [
  {
   "cell_type": "code",
   "execution_count": 1,
   "id": "884cfbff-df13-4635-aad0-75113b26812b",
   "metadata": {
    "execution": {
     "iopub.execute_input": "2023-03-30T17:12:11.809469Z",
     "iopub.status.busy": "2023-03-30T17:12:11.808906Z",
     "iopub.status.idle": "2023-03-30T17:12:17.817598Z",
     "shell.execute_reply": "2023-03-30T17:12:17.795604Z",
     "shell.execute_reply.started": "2023-03-30T17:12:11.809423Z"
    }
   },
   "outputs": [],
   "source": [
    "import keras\n",
    "from tensorflow.keras.preprocessing import image_dataset_from_directory\n",
    "from keras.models import load_model\n",
    "from keras.preprocessing.image import ImageDataGenerator"
   ]
  },
  {
   "cell_type": "code",
   "execution_count": null,
   "id": "02bc8328-553f-480d-a8d8-98fcb486b09e",
   "metadata": {
    "execution": {
     "iopub.execute_input": "2023-03-30T17:12:20.916349Z",
     "iopub.status.busy": "2023-03-30T17:12:20.915034Z"
    }
   },
   "outputs": [],
   "source": [
    "image_shape=(227,227)\n",
    "train_dir=\"/notebooks/thermograms/Desenvolvimento da Metodologia\"\n",
    "validation_dir=train_dir\n",
    "# test_dir=\"/notebooks/ultrasound/val\"\n",
    "batch_size=64\n",
    "test_train_split=0.2\n",
    "\n",
    "train_data = image_dataset_from_directory(\\\n",
    "      train_dir,color_mode=\"grayscale\",image_size=image_shape ,\\\n",
    "      subset='training',seed=5, validation_split=test_train_split,\\\n",
    "      batch_size=batch_size)\n",
    "validation_data = image_dataset_from_directory(validation_dir,\n",
    "      color_mode=\"grayscale\",image_size=image_shape, subset='validation',seed=5,\\\n",
    "      validation_split=test_train_split,batch_size=batch_size)\n",
    "# test_data = image_dataset_from_directory(test_dir,\n",
    "#       color_mode=\"grayscale\",image_size=image_shape, batch_size=batch_size)\n"
   ]
  },
  {
   "cell_type": "code",
   "execution_count": 4,
   "id": "136a480e-063f-4695-894f-e2060d1c6c5d",
   "metadata": {
    "execution": {
     "iopub.execute_input": "2023-03-30T13:44:25.062272Z",
     "iopub.status.busy": "2023-03-30T13:44:25.061187Z",
     "iopub.status.idle": "2023-03-30T13:44:25.138116Z",
     "shell.execute_reply": "2023-03-30T13:44:25.136654Z",
     "shell.execute_reply.started": "2023-03-30T13:44:25.062227Z"
    }
   },
   "outputs": [
    {
     "name": "stdout",
     "output_type": "stream",
     "text": [
      "Found 1026 images belonging to 2 classes.\n",
      "Found 256 images belonging to 2 classes.\n"
     ]
    }
   ],
   "source": [
    "train_datagen = ImageDataGenerator(\n",
    "        rescale=1./255,\n",
    "        rotation_range=60,\n",
    "        width_shift_range=0.4,\n",
    "        height_shift_range=0.4,\n",
    "        shear_range=0.4,\n",
    "        zoom_range=0.4,\n",
    "        horizontal_flip=True,\n",
    "        fill_mode='nearest',\n",
    "        validation_split=0.2)\n",
    "\n",
    "train_generator = train_datagen.flow_from_directory(\n",
    "        '/notebooks/thermograms/Desenvolvimento da Metodologia',\n",
    "        target_size=(150, 150),\n",
    "        batch_size=32,\n",
    "        class_mode='binary',\n",
    "        subset='training')\n",
    "\n",
    "validation_generator = train_datagen.flow_from_directory(\n",
    "        '/notebooks/thermograms/Desenvolvimento da Metodologia',\n",
    "        target_size=(150, 150),\n",
    "        batch_size=32,\n",
    "        class_mode='binary',\n",
    "        subset='validation')\n"
   ]
  },
  {
   "cell_type": "code",
   "execution_count": null,
   "id": "c852985f-850a-4716-b070-91e0cbfad794",
   "metadata": {},
   "outputs": [],
   "source": []
  },
  {
   "cell_type": "code",
   "execution_count": 5,
   "id": "b287627d-9cef-41d5-9233-58ff3716cdcb",
   "metadata": {
    "execution": {
     "iopub.execute_input": "2023-03-29T13:36:59.841806Z",
     "iopub.status.busy": "2023-03-29T13:36:59.841455Z",
     "iopub.status.idle": "2023-03-29T13:37:00.653049Z",
     "shell.execute_reply": "2023-03-29T13:37:00.651959Z",
     "shell.execute_reply.started": "2023-03-29T13:36:59.841780Z"
    }
   },
   "outputs": [],
   "source": [
    "model=load_model('/notebooks/hnas_major/models/hnas_thermogram_fcn_0')"
   ]
  },
  {
   "cell_type": "code",
   "execution_count": 6,
   "id": "05a8989b-ee4e-4d18-8f12-e4610fa8aa72",
   "metadata": {
    "execution": {
     "iopub.execute_input": "2023-03-29T13:37:11.676515Z",
     "iopub.status.busy": "2023-03-29T13:37:11.676105Z",
     "iopub.status.idle": "2023-03-29T13:37:12.460837Z",
     "shell.execute_reply": "2023-03-29T13:37:12.460039Z",
     "shell.execute_reply.started": "2023-03-29T13:37:11.676487Z"
    }
   },
   "outputs": [
    {
     "name": "stdout",
     "output_type": "stream",
     "text": [
      "Found 8116 files belonging to 2 classes.\n",
      "Using 5682 files for training.\n",
      "Found 8116 files belonging to 2 classes.\n",
      "Using 2434 files for validation.\n",
      "Found 900 files belonging to 2 classes.\n"
     ]
    }
   ],
   "source": [
    "image_shape=(227,227)\n",
    "train_dir=\"/notebooks/ultrasound/train\"\n",
    "validation_dir=train_dir\n",
    "test_dir=\"/notebooks/ultrasound/val\"\n",
    "batch_size=64\n",
    "test_train_split=0.3\n",
    "\n",
    "train_data = image_dataset_from_directory(\\\n",
    "      train_dir,color_mode=\"grayscale\",image_size=image_shape ,\\\n",
    "      subset='training',seed=5, validation_split=test_train_split,\\\n",
    "      batch_size=batch_size)\n",
    "validation_data = image_dataset_from_directory(validation_dir,\n",
    "      color_mode=\"grayscale\",image_size=image_shape, subset='validation',seed=5,\\\n",
    "      validation_split=test_train_split,batch_size=batch_size)\n",
    "test_data = image_dataset_from_directory(test_dir,\n",
    "      color_mode=\"grayscale\",image_size=image_shape, batch_size=batch_size)\n"
   ]
  },
  {
   "cell_type": "code",
   "execution_count": 10,
   "id": "d9854854-0dff-4e3e-9537-31725f4aaec9",
   "metadata": {
    "execution": {
     "iopub.execute_input": "2023-03-29T13:39:15.561010Z",
     "iopub.status.busy": "2023-03-29T13:39:15.560624Z",
     "iopub.status.idle": "2023-03-29T13:39:15.590526Z",
     "shell.execute_reply": "2023-03-29T13:39:15.589487Z",
     "shell.execute_reply.started": "2023-03-29T13:39:15.560982Z"
    }
   },
   "outputs": [
    {
     "name": "stdout",
     "output_type": "stream",
     "text": [
      "Model: \"sequential_10\"\n",
      "_________________________________________________________________\n",
      " Layer (type)                Output Shape              Param #   \n",
      "=================================================================\n",
      " batch_normalization_10 (Bat  (None, 227, 227, 1)      4         \n",
      " chNormalization)                                                \n",
      "                                                                 \n",
      " conv2d_16 (Conv2D)          (None, 223, 223, 387)     10062     \n",
      "                                                                 \n",
      " max_pooling2d_16 (MaxPoolin  (None, 111, 111, 387)    0         \n",
      " g2D)                                                            \n",
      "                                                                 \n",
      " conv2d_17 (Conv2D)          (None, 108, 108, 228)     1412004   \n",
      "                                                                 \n",
      " max_pooling2d_17 (MaxPoolin  (None, 54, 54, 228)      0         \n",
      " g2D)                                                            \n",
      "                                                                 \n",
      " conv2d_18 (Conv2D)          (None, 52, 52, 403)       827359    \n",
      "                                                                 \n",
      " max_pooling2d_18 (MaxPoolin  (None, 26, 26, 403)      0         \n",
      " g2D)                                                            \n",
      "                                                                 \n",
      " flatten_10 (Flatten)        (None, 272428)            0         \n",
      "                                                                 \n",
      " dense_20 (Dense)            (None, 50)                13621450  \n",
      "                                                                 \n",
      " activation_20 (Activation)  (None, 50)                0         \n",
      "                                                                 \n",
      " dropout_10 (Dropout)        (None, 50)                0         \n",
      "                                                                 \n",
      " dense_21 (Dense)            (None, 1)                 51        \n",
      "                                                                 \n",
      " activation_21 (Activation)  (None, 1)                 0         \n",
      "                                                                 \n",
      "=================================================================\n",
      "Total params: 15,870,930\n",
      "Trainable params: 15,870,928\n",
      "Non-trainable params: 2\n",
      "_________________________________________________________________\n"
     ]
    }
   ],
   "source": [
    "model.summary()"
   ]
  },
  {
   "cell_type": "code",
   "execution_count": 8,
   "id": "d0e7fd72-07c5-45f9-9d44-a4c76b486959",
   "metadata": {
    "execution": {
     "iopub.execute_input": "2023-03-29T13:38:06.678205Z",
     "iopub.status.busy": "2023-03-29T13:38:06.677882Z",
     "iopub.status.idle": "2023-03-29T13:38:06.959787Z",
     "shell.execute_reply": "2023-03-29T13:38:06.958568Z",
     "shell.execute_reply.started": "2023-03-29T13:38:06.678180Z"
    }
   },
   "outputs": [
    {
     "name": "stdout",
     "output_type": "stream",
     "text": [
      "Found 1282 files belonging to 2 classes.\n",
      "Using 898 files for training.\n",
      "Found 1282 files belonging to 2 classes.\n",
      "Using 384 files for validation.\n"
     ]
    }
   ],
   "source": [
    "image_shape=(227,227)\n",
    "train_dir=\"/notebooks/thermograms/Desenvolvimento da Metodologia\"\n",
    "validation_dir=train_dir\n",
    "# test_dir=\"/notebooks/ultrasound/val\"\n",
    "batch_size=64\n",
    "test_train_split=0.3\n",
    "\n",
    "train_data = image_dataset_from_directory(\\\n",
    "      train_dir,color_mode=\"grayscale\",image_size=image_shape ,\\\n",
    "      subset='training',seed=5, validation_split=test_train_split,\\\n",
    "      batch_size=batch_size)\n",
    "validation_data = image_dataset_from_directory(validation_dir,\n",
    "      color_mode=\"grayscale\",image_size=image_shape, subset='validation',seed=5,\\\n",
    "      validation_split=test_train_split,batch_size=batch_size)\n",
    "# test_data = image_dataset_from_directory(test_dir,\n",
    "#       color_mode=\"grayscale\",image_size=image_shape, batch_size=batch_size)\n"
   ]
  },
  {
   "cell_type": "code",
   "execution_count": 9,
   "id": "6f93af8c-9efb-4a8f-8666-35a87528f2bf",
   "metadata": {
    "execution": {
     "iopub.execute_input": "2023-03-29T13:38:17.792584Z",
     "iopub.status.busy": "2023-03-29T13:38:17.792067Z",
     "iopub.status.idle": "2023-03-29T13:38:19.915408Z",
     "shell.execute_reply": "2023-03-29T13:38:19.914378Z",
     "shell.execute_reply.started": "2023-03-29T13:38:17.792544Z"
    }
   },
   "outputs": [
    {
     "name": "stdout",
     "output_type": "stream",
     "text": [
      "6/6 [==============================] - 2s 303ms/step - loss: 0.0083 - binary_accuracy: 0.9974\n",
      "test loss, test acc: [0.008322102017700672, 0.9973958134651184]\n"
     ]
    }
   ],
   "source": [
    "results = model.evaluate(validation_data)\n",
    "print(\"test loss, test acc:\", results)"
   ]
  },
  {
   "cell_type": "code",
   "execution_count": 11,
   "id": "d083d085-133b-40b0-a23e-7a0098fc0195",
   "metadata": {
    "execution": {
     "iopub.execute_input": "2023-03-29T13:48:43.476841Z",
     "iopub.status.busy": "2023-03-29T13:48:43.475800Z",
     "iopub.status.idle": "2023-03-29T13:48:48.499212Z",
     "shell.execute_reply": "2023-03-29T13:48:48.498352Z",
     "shell.execute_reply.started": "2023-03-29T13:48:43.476807Z"
    }
   },
   "outputs": [
    {
     "name": "stdout",
     "output_type": "stream",
     "text": [
      "15/15 [==============================] - 5s 304ms/step - loss: 0.0520 - binary_accuracy: 0.9955\n",
      "test loss, test acc: [0.052028920501470566, 0.9955456852912903]\n"
     ]
    }
   ],
   "source": [
    "results = model.evaluate(train_data)\n",
    "print(\"test loss, test acc:\", results)"
   ]
  }
 ],
 "metadata": {
  "kernelspec": {
   "display_name": "Python 3 (ipykernel)",
   "language": "python",
   "name": "python3"
  },
  "language_info": {
   "codemirror_mode": {
    "name": "ipython",
    "version": 3
   },
   "file_extension": ".py",
   "mimetype": "text/x-python",
   "name": "python",
   "nbconvert_exporter": "python",
   "pygments_lexer": "ipython3",
   "version": "3.9.16"
  }
 },
 "nbformat": 4,
 "nbformat_minor": 5
}
