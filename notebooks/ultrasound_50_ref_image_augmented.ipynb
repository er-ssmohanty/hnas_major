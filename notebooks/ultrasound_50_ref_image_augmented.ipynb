{
 "cells": [
  {
   "cell_type": "code",
   "execution_count": 3,
   "id": "884cfbff-df13-4635-aad0-75113b26812b",
   "metadata": {
    "execution": {
     "iopub.execute_input": "2023-04-19T06:05:43.527186Z",
     "iopub.status.busy": "2023-04-19T06:05:43.525937Z",
     "iopub.status.idle": "2023-04-19T06:05:46.841031Z",
     "shell.execute_reply": "2023-04-19T06:05:46.839883Z",
     "shell.execute_reply.started": "2023-04-19T06:05:43.527125Z"
    }
   },
   "outputs": [],
   "source": [
    "import os\n",
    "import keras\n",
    "from tensorflow.keras.preprocessing import image_dataset_from_directory\n",
    "from keras.models import load_model\n",
    "from keras.preprocessing.image import ImageDataGenerator\n",
    "from PIL import Image"
   ]
  },
  {
   "cell_type": "code",
   "execution_count": 4,
   "id": "02bc8328-553f-480d-a8d8-98fcb486b09e",
   "metadata": {
    "execution": {
     "iopub.execute_input": "2023-04-19T06:05:48.546042Z",
     "iopub.status.busy": "2023-04-19T06:05:48.545488Z",
     "iopub.status.idle": "2023-04-19T06:05:50.151374Z",
     "shell.execute_reply": "2023-04-19T06:05:50.150359Z",
     "shell.execute_reply.started": "2023-04-19T06:05:48.546014Z"
    }
   },
   "outputs": [
    {
     "name": "stdout",
     "output_type": "stream",
     "text": [
      "Found 250 files belonging to 2 classes.\n",
      "Using 175 files for training.\n",
      "Found 250 files belonging to 2 classes.\n",
      "Using 75 files for validation.\n"
     ]
    }
   ],
   "source": [
    "image_shape=(227,227)\n",
    "train_dir='/notebooks/originals'  ##output_data_path\n",
    "validation_dir=train_dir\n",
    "# test_dir=\"/notebooks/ultrasound/val\"\n",
    "batch_size=64\n",
    "test_train_split=0.3\n",
    "\n",
    "train_data = image_dataset_from_directory(\\\n",
    "      train_dir,color_mode=\"grayscale\",image_size=image_shape ,\\\n",
    "      subset='training',seed=5, validation_split=test_train_split,\\\n",
    "      batch_size=batch_size)\n",
    "validation_data = image_dataset_from_directory(validation_dir,\n",
    "      color_mode=\"grayscale\",image_size=image_shape, subset='validation',seed=5,\\\n",
    "      validation_split=test_train_split,batch_size=batch_size)\n",
    "# test_data = image_dataset_from_directory(test_dir,\n",
    "#       color_mode=\"grayscale\",image_size=image_shape, batch_size=batch_size)\n"
   ]
  },
  {
   "cell_type": "code",
   "execution_count": 5,
   "id": "d58d1e9d-bc13-4aa0-96f4-a83137e036a7",
   "metadata": {
    "execution": {
     "iopub.execute_input": "2023-04-18T17:34:56.267830Z",
     "iopub.status.busy": "2023-04-18T17:34:56.267204Z",
     "iopub.status.idle": "2023-04-18T17:34:56.271362Z",
     "shell.execute_reply": "2023-04-18T17:34:56.270928Z",
     "shell.execute_reply.started": "2023-04-18T17:34:56.267810Z"
    }
   },
   "outputs": [],
   "source": [
    "\n",
    "def bmp2png_convert(input_dir = \"/path/to/input/directory\", \n",
    "                    output_dir = \"/path/to/output/directory\"):\n",
    "    if not os.path.exists(output_dir):\n",
    "        os.makedirs(output_dir)\n",
    "    for filename in os.listdir(input_dir):\n",
    "        if filename.endswith(\".bmp\"):\n",
    "            input_path = os.path.join(input_dir, filename)\n",
    "            output_path = os.path.join(output_dir, os.path.splitext(filename)[0] + \".png\")\n",
    "            with Image.open(input_path) as im:\n",
    "                im.save(output_path)"
   ]
  },
  {
   "cell_type": "code",
   "execution_count": 6,
   "id": "867bcc4a-a05e-47ee-abf2-00f704a21938",
   "metadata": {
    "execution": {
     "iopub.execute_input": "2023-04-18T17:35:02.358262Z",
     "iopub.status.busy": "2023-04-18T17:35:02.357770Z",
     "iopub.status.idle": "2023-04-18T17:35:07.958074Z",
     "shell.execute_reply": "2023-04-18T17:35:07.957475Z",
     "shell.execute_reply.started": "2023-04-18T17:35:02.358242Z"
    }
   },
   "outputs": [],
   "source": [
    "bmp2png_convert(input_dir='/notebooks/originals/benign',output_dir='/notebooks/originals_png/benign')\n",
    "bmp2png_convert(input_dir='/notebooks/originals/malignant',output_dir='/notebooks/originals_png/malignant')"
   ]
  },
  {
   "cell_type": "code",
   "execution_count": 2,
   "id": "67463e99-8785-4478-97bc-ea8efe3c654b",
   "metadata": {
    "collapsed": true,
    "execution": {
     "iopub.execute_input": "2023-04-19T06:05:00.329908Z",
     "iopub.status.busy": "2023-04-19T06:05:00.326809Z",
     "iopub.status.idle": "2023-04-19T06:05:00.767168Z",
     "shell.execute_reply": "2023-04-19T06:05:00.765467Z",
     "shell.execute_reply.started": "2023-04-19T06:05:00.329849Z"
    },
    "jupyter": {
     "outputs_hidden": true
    }
   },
   "outputs": [
    {
     "name": "stderr",
     "output_type": "stream",
     "text": [
      "mkdir: cannot create directory ‘a’: File exists\n",
      "mkdir: cannot create directory ‘b’: File exists\n",
      "mv: cannot stat 'us1*': No such file or directory\n",
      "mv: cannot stat 'us*': No such file or directory\n",
      "bash: line 5: cd: ,,/malignant: No such file or directory\n",
      "mkdir: cannot create directory ‘a’: File exists\n",
      "mkdir: cannot create directory ‘b’: File exists\n",
      "mv: cannot stat 'us1*': No such file or directory\n",
      "mv: cannot stat 'us*': No such file or directory\n",
      "bash: line 9: cd: ,,: No such file or directory\n"
     ]
    },
    {
     "ename": "CalledProcessError",
     "evalue": "Command 'b'cd /notebooks/originals_png/benign\\nmkdir a b\\nmv us1* a\\nmv us* b\\ncd ,,/malignant\\nmkdir a b\\nmv us1* a\\nmv us* b\\ncd ,,\\n'' returned non-zero exit status 1.",
     "output_type": "error",
     "traceback": [
      "\u001b[0;31m---------------------------------------------------------------------------\u001b[0m",
      "\u001b[0;31mCalledProcessError\u001b[0m                        Traceback (most recent call last)",
      "Cell \u001b[0;32mIn [2], line 1\u001b[0m\n\u001b[0;32m----> 1\u001b[0m \u001b[43mget_ipython\u001b[49m\u001b[43m(\u001b[49m\u001b[43m)\u001b[49m\u001b[38;5;241;43m.\u001b[39;49m\u001b[43mrun_cell_magic\u001b[49m\u001b[43m(\u001b[49m\u001b[38;5;124;43m'\u001b[39;49m\u001b[38;5;124;43mbash\u001b[39;49m\u001b[38;5;124;43m'\u001b[39;49m\u001b[43m,\u001b[49m\u001b[43m \u001b[49m\u001b[38;5;124;43m'\u001b[39;49m\u001b[38;5;124;43m'\u001b[39;49m\u001b[43m,\u001b[49m\u001b[43m \u001b[49m\u001b[38;5;124;43m'\u001b[39;49m\u001b[38;5;124;43mcd /notebooks/originals_png/benign\u001b[39;49m\u001b[38;5;130;43;01m\\n\u001b[39;49;00m\u001b[38;5;124;43mmkdir a b\u001b[39;49m\u001b[38;5;130;43;01m\\n\u001b[39;49;00m\u001b[38;5;124;43mmv us1* a\u001b[39;49m\u001b[38;5;130;43;01m\\n\u001b[39;49;00m\u001b[38;5;124;43mmv us* b\u001b[39;49m\u001b[38;5;130;43;01m\\n\u001b[39;49;00m\u001b[38;5;124;43mcd ,,/malignant\u001b[39;49m\u001b[38;5;130;43;01m\\n\u001b[39;49;00m\u001b[38;5;124;43mmkdir a b\u001b[39;49m\u001b[38;5;130;43;01m\\n\u001b[39;49;00m\u001b[38;5;124;43mmv us1* a\u001b[39;49m\u001b[38;5;130;43;01m\\n\u001b[39;49;00m\u001b[38;5;124;43mmv us* b\u001b[39;49m\u001b[38;5;130;43;01m\\n\u001b[39;49;00m\u001b[38;5;124;43mcd ,,\u001b[39;49m\u001b[38;5;130;43;01m\\n\u001b[39;49;00m\u001b[38;5;124;43m'\u001b[39;49m\u001b[43m)\u001b[49m\n",
      "File \u001b[0;32m/usr/local/lib/python3.9/dist-packages/IPython/core/interactiveshell.py:2362\u001b[0m, in \u001b[0;36mInteractiveShell.run_cell_magic\u001b[0;34m(self, magic_name, line, cell)\u001b[0m\n\u001b[1;32m   2360\u001b[0m \u001b[38;5;28;01mwith\u001b[39;00m \u001b[38;5;28mself\u001b[39m\u001b[38;5;241m.\u001b[39mbuiltin_trap:\n\u001b[1;32m   2361\u001b[0m     args \u001b[38;5;241m=\u001b[39m (magic_arg_s, cell)\n\u001b[0;32m-> 2362\u001b[0m     result \u001b[38;5;241m=\u001b[39m \u001b[43mfn\u001b[49m\u001b[43m(\u001b[49m\u001b[38;5;241;43m*\u001b[39;49m\u001b[43margs\u001b[49m\u001b[43m,\u001b[49m\u001b[43m \u001b[49m\u001b[38;5;241;43m*\u001b[39;49m\u001b[38;5;241;43m*\u001b[39;49m\u001b[43mkwargs\u001b[49m\u001b[43m)\u001b[49m\n\u001b[1;32m   2363\u001b[0m \u001b[38;5;28;01mreturn\u001b[39;00m result\n",
      "File \u001b[0;32m/usr/local/lib/python3.9/dist-packages/IPython/core/magics/script.py:153\u001b[0m, in \u001b[0;36mScriptMagics._make_script_magic.<locals>.named_script_magic\u001b[0;34m(line, cell)\u001b[0m\n\u001b[1;32m    151\u001b[0m \u001b[38;5;28;01melse\u001b[39;00m:\n\u001b[1;32m    152\u001b[0m     line \u001b[38;5;241m=\u001b[39m script\n\u001b[0;32m--> 153\u001b[0m \u001b[38;5;28;01mreturn\u001b[39;00m \u001b[38;5;28;43mself\u001b[39;49m\u001b[38;5;241;43m.\u001b[39;49m\u001b[43mshebang\u001b[49m\u001b[43m(\u001b[49m\u001b[43mline\u001b[49m\u001b[43m,\u001b[49m\u001b[43m \u001b[49m\u001b[43mcell\u001b[49m\u001b[43m)\u001b[49m\n",
      "File \u001b[0;32m/usr/local/lib/python3.9/dist-packages/IPython/core/magics/script.py:305\u001b[0m, in \u001b[0;36mScriptMagics.shebang\u001b[0;34m(self, line, cell)\u001b[0m\n\u001b[1;32m    300\u001b[0m \u001b[38;5;28;01mif\u001b[39;00m args\u001b[38;5;241m.\u001b[39mraise_error \u001b[38;5;129;01mand\u001b[39;00m p\u001b[38;5;241m.\u001b[39mreturncode \u001b[38;5;241m!=\u001b[39m \u001b[38;5;241m0\u001b[39m:\n\u001b[1;32m    301\u001b[0m     \u001b[38;5;66;03m# If we get here and p.returncode is still None, we must have\u001b[39;00m\n\u001b[1;32m    302\u001b[0m     \u001b[38;5;66;03m# killed it but not yet seen its return code. We don't wait for it,\u001b[39;00m\n\u001b[1;32m    303\u001b[0m     \u001b[38;5;66;03m# in case it's stuck in uninterruptible sleep. -9 = SIGKILL\u001b[39;00m\n\u001b[1;32m    304\u001b[0m     rc \u001b[38;5;241m=\u001b[39m p\u001b[38;5;241m.\u001b[39mreturncode \u001b[38;5;129;01mor\u001b[39;00m \u001b[38;5;241m-\u001b[39m\u001b[38;5;241m9\u001b[39m\n\u001b[0;32m--> 305\u001b[0m     \u001b[38;5;28;01mraise\u001b[39;00m CalledProcessError(rc, cell)\n",
      "\u001b[0;31mCalledProcessError\u001b[0m: Command 'b'cd /notebooks/originals_png/benign\\nmkdir a b\\nmv us1* a\\nmv us* b\\ncd ,,/malignant\\nmkdir a b\\nmv us1* a\\nmv us* b\\ncd ,,\\n'' returned non-zero exit status 1."
     ]
    }
   ],
   "source": [
    "%%bash\n",
    "cd /notebooks/originals_png/benign\n",
    "mkdir a b\n",
    "mv us1* a\n",
    "mv us* b\n",
    "cd ,,/malignant\n",
    "mkdir a b\n",
    "mv us1* a\n",
    "mv us* b\n",
    "cd ,,"
   ]
  },
  {
   "cell_type": "code",
   "execution_count": 9,
   "id": "136a480e-063f-4695-894f-e2060d1c6c5d",
   "metadata": {
    "execution": {
     "iopub.execute_input": "2023-04-19T06:07:16.271978Z",
     "iopub.status.busy": "2023-04-19T06:07:16.270645Z",
     "iopub.status.idle": "2023-04-19T06:07:16.281140Z",
     "shell.execute_reply": "2023-04-19T06:07:16.280254Z",
     "shell.execute_reply.started": "2023-04-19T06:07:16.271978Z"
    }
   },
   "outputs": [],
   "source": [
    "def data_auggment(input_data_path, output_data_path, factor_=0.5, image_shape=(227,227),batch_size=64,\\\n",
    "                  class_mode='categorical', save_prefix='aug_', save_format='png',rescale=1./255,\\\n",
    "                  rotation_range=30, width_shift_range=0.2, height_shift_range=0.2,color_mode='grayscale',\\\n",
    "                  shear_range=0.2, zoom_range=0.2, horizontal_flip=True, fill_mode='nearest'):\n",
    "    if input_data_path[-1]!='/':\n",
    "        input_data_path+='/'\n",
    "    if output_data_path!='/':\n",
    "        output_data_path+='/'\n",
    "    \n",
    "    num_classes=os.listdir(input_data_path)\n",
    "    datagen = ImageDataGenerator(rescale=rescale, rotation_range=rotation_range,\\\n",
    "                                 width_shift_range=width_shift_range, height_shift_range=height_shift_range, \\\n",
    "                                 shear_range=shear_range, zoom_range=zoom_range, horizontal_flip=horizontal_flip,\\\n",
    "                                 fill_mode=fill_mode)\n",
    "    print(input_data_path)\n",
    "    print(output_data_path)\n",
    "    for i in os.listdir(input_data_path):\n",
    "        if len(os.listdir(input_data_path+i))>4:\n",
    "            print('Files exist')\n",
    "        train_generator = datagen.flow_from_directory(\n",
    "            input_data_path+i, target_size=image_shape, batch_size=batch_size,\n",
    "            class_mode=class_mode)\n",
    "\n",
    "        augmented_generator = datagen.flow_from_directory(\n",
    "            input_data_path+i, target_size=image_shape, batch_size=batch_size,\\\n",
    "            class_mode=class_mode, save_to_dir=output_data_path+i, save_prefix=save_prefix,\\\n",
    "            save_format=save_format)\n",
    "        for j in range(len(train_generator)):\n",
    "            batch = train_generator.next()\n",
    "            augmented_generator.next()\n",
    "\n",
    "            if j >= len(train_generator) * factor_:\n",
    "                break"
   ]
  },
  {
   "cell_type": "code",
   "execution_count": 40,
   "id": "83935950-c26b-4f5b-96e6-bf51f7f5996c",
   "metadata": {
    "execution": {
     "iopub.execute_input": "2023-04-18T18:14:25.138472Z",
     "iopub.status.busy": "2023-04-18T18:14:25.137928Z",
     "iopub.status.idle": "2023-04-18T18:14:25.716977Z",
     "shell.execute_reply": "2023-04-18T18:14:25.716258Z",
     "shell.execute_reply.started": "2023-04-18T18:14:25.138449Z"
    }
   },
   "outputs": [
    {
     "name": "stdout",
     "output_type": "stream",
     "text": [
      "/notebooks/originals_png/benign\n"
     ]
    }
   ],
   "source": [
    "!cd originals_png/benign; pwd; mv  "
   ]
  },
  {
   "cell_type": "code",
   "execution_count": 6,
   "id": "c852985f-850a-4716-b070-91e0cbfad794",
   "metadata": {
    "execution": {
     "iopub.execute_input": "2023-04-19T06:06:01.590889Z",
     "iopub.status.busy": "2023-04-19T06:06:01.590262Z",
     "iopub.status.idle": "2023-04-19T06:06:01.595255Z",
     "shell.execute_reply": "2023-04-19T06:06:01.594316Z",
     "shell.execute_reply.started": "2023-04-19T06:06:01.590857Z"
    }
   },
   "outputs": [],
   "source": [
    "input_data_path='/notebooks/originals_png/'"
   ]
  },
  {
   "cell_type": "code",
   "execution_count": 7,
   "id": "fca14403-f435-46e4-a2b7-586e46bd92d5",
   "metadata": {
    "execution": {
     "iopub.execute_input": "2023-04-19T06:06:02.726615Z",
     "iopub.status.busy": "2023-04-19T06:06:02.725288Z",
     "iopub.status.idle": "2023-04-19T06:06:02.730421Z",
     "shell.execute_reply": "2023-04-19T06:06:02.729592Z",
     "shell.execute_reply.started": "2023-04-19T06:06:02.726585Z"
    }
   },
   "outputs": [],
   "source": [
    "output_data_path='/notebooks/ultrasound_50_referred/'"
   ]
  },
  {
   "cell_type": "code",
   "execution_count": 13,
   "id": "98a83ddb-0a49-4c64-90c6-5bafd99facd1",
   "metadata": {
    "execution": {
     "iopub.execute_input": "2023-04-19T06:10:09.304568Z",
     "iopub.status.busy": "2023-04-19T06:10:09.304144Z",
     "iopub.status.idle": "2023-04-19T06:10:18.693015Z",
     "shell.execute_reply": "2023-04-19T06:10:18.692036Z",
     "shell.execute_reply.started": "2023-04-19T06:10:09.304539Z"
    }
   },
   "outputs": [
    {
     "name": "stdout",
     "output_type": "stream",
     "text": [
      "/notebooks/originals_png/\n",
      "/notebooks/ultrasound_50_referred//\n",
      "Found 150 images belonging to 2 classes.\n",
      "Found 150 images belonging to 2 classes.\n",
      "Found 100 images belonging to 2 classes.\n",
      "Found 100 images belonging to 2 classes.\n"
     ]
    }
   ],
   "source": [
    "data_auggment(input_data_path,output_data_path, save_prefix='aug1_',factor_=0.8)"
   ]
  },
  {
   "cell_type": "code",
   "execution_count": 14,
   "id": "46578aef-6857-41c4-ba6d-cb51dc9b9c43",
   "metadata": {
    "execution": {
     "iopub.execute_input": "2023-04-19T06:10:18.695172Z",
     "iopub.status.busy": "2023-04-19T06:10:18.694844Z",
     "iopub.status.idle": "2023-04-19T06:10:28.927564Z",
     "shell.execute_reply": "2023-04-19T06:10:28.926355Z",
     "shell.execute_reply.started": "2023-04-19T06:10:18.695150Z"
    }
   },
   "outputs": [
    {
     "name": "stdout",
     "output_type": "stream",
     "text": [
      "/notebooks/originals_png/\n",
      "/notebooks/ultrasound_50_referred//\n",
      "Found 150 images belonging to 2 classes.\n",
      "Found 150 images belonging to 2 classes.\n",
      "Found 100 images belonging to 2 classes.\n",
      "Found 100 images belonging to 2 classes.\n"
     ]
    }
   ],
   "source": [
    "data_auggment(input_data_path,output_data_path, save_prefix='aug2_',factor_=0.9)"
   ]
  },
  {
   "cell_type": "code",
   "execution_count": 15,
   "id": "5f3b7a0c-d344-45e2-b3bc-600553ca5e56",
   "metadata": {
    "execution": {
     "iopub.execute_input": "2023-04-19T06:10:28.929477Z",
     "iopub.status.busy": "2023-04-19T06:10:28.929133Z",
     "iopub.status.idle": "2023-04-19T06:11:26.845052Z",
     "shell.execute_reply": "2023-04-19T06:11:26.844045Z",
     "shell.execute_reply.started": "2023-04-19T06:10:28.929449Z"
    }
   },
   "outputs": [
    {
     "name": "stdout",
     "output_type": "stream",
     "text": [
      "/notebooks/originals_png/\n",
      "/notebooks/ultrasound_50_referred//\n",
      "Found 150 images belonging to 2 classes.\n",
      "Found 150 images belonging to 2 classes.\n",
      "Found 100 images belonging to 2 classes.\n",
      "Found 100 images belonging to 2 classes.\n",
      "/notebooks/originals_png/\n",
      "/notebooks/ultrasound_50_referred//\n",
      "Found 150 images belonging to 2 classes.\n",
      "Found 150 images belonging to 2 classes.\n",
      "Found 100 images belonging to 2 classes.\n",
      "Found 100 images belonging to 2 classes.\n",
      "/notebooks/originals_png/\n",
      "/notebooks/ultrasound_50_referred//\n",
      "Found 150 images belonging to 2 classes.\n",
      "Found 150 images belonging to 2 classes.\n",
      "Found 100 images belonging to 2 classes.\n",
      "Found 100 images belonging to 2 classes.\n",
      "/notebooks/originals_png/\n",
      "/notebooks/ultrasound_50_referred//\n",
      "Found 150 images belonging to 2 classes.\n",
      "Found 150 images belonging to 2 classes.\n",
      "Found 100 images belonging to 2 classes.\n",
      "Found 100 images belonging to 2 classes.\n",
      "/notebooks/originals_png/\n",
      "/notebooks/ultrasound_50_referred//\n",
      "Found 150 images belonging to 2 classes.\n",
      "Found 150 images belonging to 2 classes.\n",
      "Found 100 images belonging to 2 classes.\n",
      "Found 100 images belonging to 2 classes.\n",
      "/notebooks/originals_png/\n",
      "/notebooks/ultrasound_50_referred//\n",
      "Found 150 images belonging to 2 classes.\n",
      "Found 150 images belonging to 2 classes.\n",
      "Found 100 images belonging to 2 classes.\n",
      "Found 100 images belonging to 2 classes.\n"
     ]
    }
   ],
   "source": [
    "data_auggment(input_data_path,output_data_path, save_prefix='aug3_',factor_=0.94)\n",
    "data_auggment(input_data_path,output_data_path, save_prefix='aug4_',factor_=0.96)\n",
    "data_auggment(input_data_path,output_data_path, save_prefix='aug5_',factor_=1)\n",
    "data_auggment(input_data_path,output_data_path, save_prefix='aug6_',factor_=0.94)\n",
    "data_auggment(input_data_path,output_data_path, save_prefix='aug7_',factor_=0.96)\n",
    "data_auggment(input_data_path,output_data_path, save_prefix='aug8_',factor_=1)"
   ]
  },
  {
   "cell_type": "code",
   "execution_count": 26,
   "id": "e181190f-31a5-48fe-8d8d-6598a34b3c0c",
   "metadata": {
    "execution": {
     "iopub.execute_input": "2023-04-19T06:15:21.371261Z",
     "iopub.status.busy": "2023-04-19T06:15:21.369655Z",
     "iopub.status.idle": "2023-04-19T06:16:20.379306Z",
     "shell.execute_reply": "2023-04-19T06:16:20.378357Z",
     "shell.execute_reply.started": "2023-04-19T06:15:21.371229Z"
    }
   },
   "outputs": [
    {
     "name": "stdout",
     "output_type": "stream",
     "text": [
      "/notebooks/originals_png/\n",
      "/notebooks/ultrasound_50_referred//\n",
      "Found 150 images belonging to 2 classes.\n",
      "Found 150 images belonging to 2 classes.\n",
      "Found 100 images belonging to 2 classes.\n",
      "Found 100 images belonging to 2 classes.\n",
      "/notebooks/originals_png/\n",
      "/notebooks/ultrasound_50_referred//\n",
      "Found 150 images belonging to 2 classes.\n",
      "Found 150 images belonging to 2 classes.\n",
      "Found 100 images belonging to 2 classes.\n",
      "Found 100 images belonging to 2 classes.\n",
      "/notebooks/originals_png/\n",
      "/notebooks/ultrasound_50_referred//\n",
      "Found 150 images belonging to 2 classes.\n",
      "Found 150 images belonging to 2 classes.\n",
      "Found 100 images belonging to 2 classes.\n",
      "Found 100 images belonging to 2 classes.\n",
      "/notebooks/originals_png/\n",
      "/notebooks/ultrasound_50_referred//\n",
      "Found 150 images belonging to 2 classes.\n",
      "Found 150 images belonging to 2 classes.\n",
      "Found 100 images belonging to 2 classes.\n",
      "Found 100 images belonging to 2 classes.\n",
      "/notebooks/originals_png/\n",
      "/notebooks/ultrasound_50_referred//\n",
      "Found 150 images belonging to 2 classes.\n",
      "Found 150 images belonging to 2 classes.\n",
      "Found 100 images belonging to 2 classes.\n",
      "Found 100 images belonging to 2 classes.\n",
      "/notebooks/originals_png/\n",
      "/notebooks/ultrasound_50_referred//\n",
      "Found 150 images belonging to 2 classes.\n",
      "Found 150 images belonging to 2 classes.\n",
      "Found 100 images belonging to 2 classes.\n",
      "Found 100 images belonging to 2 classes.\n"
     ]
    }
   ],
   "source": [
    "data_auggment(input_data_path,output_data_path, save_prefix='aug9_',factor_=0.94)\n",
    "data_auggment(input_data_path,output_data_path, save_prefix='aug10_',factor_=0.96)\n",
    "data_auggment(input_data_path,output_data_path, save_prefix='aug11_',factor_=1)\n",
    "data_auggment(input_data_path,output_data_path, save_prefix='aug12_',factor_=0.94)\n",
    "data_auggment(input_data_path,output_data_path, save_prefix='aug13_',factor_=0.96)\n",
    "data_auggment(input_data_path,output_data_path, save_prefix='aug14_',factor_=1)"
   ]
  },
  {
   "cell_type": "code",
   "execution_count": 32,
   "id": "6de7afb4-d963-49d1-b028-db670a1ab1d2",
   "metadata": {
    "execution": {
     "iopub.execute_input": "2023-04-19T06:21:47.690431Z",
     "iopub.status.busy": "2023-04-19T06:21:47.689922Z",
     "iopub.status.idle": "2023-04-19T06:22:17.581230Z",
     "shell.execute_reply": "2023-04-19T06:22:17.580211Z",
     "shell.execute_reply.started": "2023-04-19T06:21:47.690400Z"
    }
   },
   "outputs": [
    {
     "name": "stdout",
     "output_type": "stream",
     "text": [
      "/notebooks/originals_png/\n",
      "/notebooks/ultrasound_50_referred//\n",
      "Found 150 images belonging to 2 classes.\n",
      "Found 150 images belonging to 2 classes.\n",
      "Found 100 images belonging to 2 classes.\n",
      "Found 100 images belonging to 2 classes.\n",
      "/notebooks/originals_png/\n",
      "/notebooks/ultrasound_50_referred//\n",
      "Found 150 images belonging to 2 classes.\n",
      "Found 150 images belonging to 2 classes.\n",
      "Found 100 images belonging to 2 classes.\n",
      "Found 100 images belonging to 2 classes.\n",
      "/notebooks/originals_png/\n",
      "/notebooks/ultrasound_50_referred//\n",
      "Found 150 images belonging to 2 classes.\n",
      "Found 150 images belonging to 2 classes.\n",
      "Found 100 images belonging to 2 classes.\n",
      "Found 100 images belonging to 2 classes.\n"
     ]
    }
   ],
   "source": [
    "data_auggment(input_data_path,output_data_path, save_prefix='aug15_',factor_=0.94)\n",
    "data_auggment(input_data_path,output_data_path, save_prefix='aug16_',factor_=0.96)\n",
    "data_auggment(input_data_path,output_data_path, save_prefix='aug17_',factor_=1)"
   ]
  },
  {
   "cell_type": "code",
   "execution_count": 29,
   "id": "dff882da-b1d1-42ca-9228-991dbc3b0dc1",
   "metadata": {
    "execution": {
     "iopub.execute_input": "2023-04-19T06:20:43.312688Z",
     "iopub.status.busy": "2023-04-19T06:20:43.311837Z",
     "iopub.status.idle": "2023-04-19T06:20:43.317433Z",
     "shell.execute_reply": "2023-04-19T06:20:43.316316Z",
     "shell.execute_reply.started": "2023-04-19T06:20:43.312651Z"
    }
   },
   "outputs": [],
   "source": [
    "import random"
   ]
  },
  {
   "cell_type": "code",
   "execution_count": 33,
   "id": "727a218e-8ac7-4f31-9c57-ac0b5234bc6d",
   "metadata": {
    "execution": {
     "iopub.execute_input": "2023-04-19T06:22:17.583164Z",
     "iopub.status.busy": "2023-04-19T06:22:17.582890Z",
     "iopub.status.idle": "2023-04-19T06:22:17.709427Z",
     "shell.execute_reply": "2023-04-19T06:22:17.708608Z",
     "shell.execute_reply.started": "2023-04-19T06:22:17.583138Z"
    }
   },
   "outputs": [],
   "source": [
    "dir_path =  output_data_path # replace with your folder path\n",
    "subdirs = os.listdir(dir_path)\n",
    "\n",
    "# get the number of files in each subdirectory\n",
    "num_files = [len(os.listdir(os.path.join(dir_path, subdir))) for subdir in subdirs]\n",
    "\n",
    "# find the index of the subdirectory with more files\n",
    "if num_files[0] > num_files[1]:\n",
    "    excess_dir_idx = 0\n",
    "else:\n",
    "    excess_dir_idx = 1\n",
    "\n",
    "# randomly select excess number of files to delete\n",
    "num_files_to_delete = num_files[excess_dir_idx] - num_files[1-excess_dir_idx]\n",
    "excess_files = os.listdir(os.path.join(dir_path, subdirs[excess_dir_idx]))\n",
    "files_to_delete = random.sample(excess_files, num_files_to_delete)\n",
    "\n",
    "# delete the excess files\n",
    "for file in files_to_delete:\n",
    "    os.remove(os.path.join(dir_path, subdirs[excess_dir_idx], file))"
   ]
  },
  {
   "cell_type": "code",
   "execution_count": 34,
   "id": "d0e7fd72-07c5-45f9-9d44-a4c76b486959",
   "metadata": {
    "execution": {
     "iopub.execute_input": "2023-04-19T06:22:22.714185Z",
     "iopub.status.busy": "2023-04-19T06:22:22.713386Z",
     "iopub.status.idle": "2023-04-19T06:22:23.095779Z",
     "shell.execute_reply": "2023-04-19T06:22:23.094383Z",
     "shell.execute_reply.started": "2023-04-19T06:22:22.714155Z"
    }
   },
   "outputs": [
    {
     "name": "stdout",
     "output_type": "stream",
     "text": [
      "Found 3400 files belonging to 2 classes.\n",
      "Using 2380 files for training.\n",
      "Found 3400 files belonging to 2 classes.\n",
      "Using 1020 files for validation.\n"
     ]
    }
   ],
   "source": [
    "image_shape=(227,227)\n",
    "train_dir=output_data_path\n",
    "validation_dir=train_dir\n",
    "# test_dir=\"/notebooks/ultrasound/val\"\n",
    "batch_size=64\n",
    "test_train_split=0.3\n",
    "\n",
    "train_data = image_dataset_from_directory(\\\n",
    "      train_dir,color_mode=\"grayscale\",image_size=image_shape ,\\\n",
    "      subset='training',seed=5, validation_split=test_train_split,\\\n",
    "      batch_size=batch_size)\n",
    "validation_data = image_dataset_from_directory(validation_dir,\n",
    "      color_mode=\"grayscale\",image_size=image_shape, subset='validation',seed=5,\\\n",
    "      validation_split=test_train_split,batch_size=batch_size)\n",
    "# test_data = image_dataset_from_directory(test_dir,\n",
    "#       color_mode=\"grayscale\",image_size=image_shape, batch_size=batch_size)\n"
   ]
  },
  {
   "cell_type": "code",
   "execution_count": 36,
   "id": "a4d071cb-db76-469e-8f6b-a1c422e8bed3",
   "metadata": {
    "execution": {
     "iopub.execute_input": "2023-04-19T06:27:10.645975Z",
     "iopub.status.busy": "2023-04-19T06:27:10.645516Z",
     "iopub.status.idle": "2023-04-19T06:27:10.731330Z",
     "shell.execute_reply": "2023-04-19T06:27:10.729980Z",
     "shell.execute_reply.started": "2023-04-19T06:27:10.645941Z"
    }
   },
   "outputs": [],
   "source": [
    "%%bash\n",
    "cd /notebooks/ultrasound_50_referred/\n",
    "mkdir trainval\n",
    "mkdir test\n",
    "mv benign malignant trainval"
   ]
  },
  {
   "cell_type": "code",
   "execution_count": 38,
   "id": "898e2c58-120a-4ed3-a357-4290772a0269",
   "metadata": {
    "execution": {
     "iopub.execute_input": "2023-04-19T06:29:01.205284Z",
     "iopub.status.busy": "2023-04-19T06:29:01.204945Z",
     "iopub.status.idle": "2023-04-19T06:29:01.209902Z",
     "shell.execute_reply": "2023-04-19T06:29:01.209080Z",
     "shell.execute_reply.started": "2023-04-19T06:29:01.205259Z"
    }
   },
   "outputs": [],
   "source": [
    "import os\n",
    "import shutil\n",
    "import random\n"
   ]
  },
  {
   "cell_type": "code",
   "execution_count": 39,
   "id": "f84beddd-ed20-47f0-a2a4-4a7704db1d1d",
   "metadata": {
    "execution": {
     "iopub.execute_input": "2023-04-19T06:29:09.248358Z",
     "iopub.status.busy": "2023-04-19T06:29:09.247536Z",
     "iopub.status.idle": "2023-04-19T06:29:09.324732Z",
     "shell.execute_reply": "2023-04-19T06:29:09.323393Z",
     "shell.execute_reply.started": "2023-04-19T06:29:09.248324Z"
    }
   },
   "outputs": [],
   "source": [
    "source_dir = \"/notebooks/ultrasound_50_referred/trainval/benign\" # replace with the path to your source directory\n",
    "dest_dir = \"/notebooks/ultrasound_50_referred/test/benign\" # replace with the path to your destination directory\n",
    "num_files = 100 # replace with the number of files you want to randomly select\n",
    "\n",
    "# Get a list of all files in the source directory\n",
    "files = os.listdir(source_dir)\n",
    "\n",
    "# Randomly select num_files from the list of files\n",
    "random_files = random.sample(files, num_files)\n",
    "\n",
    "# Move the randomly selected files to the destination directory\n",
    "for file in random_files:\n",
    "    src_file = os.path.join(source_dir, file)\n",
    "    dst_file = os.path.join(dest_dir, file)\n",
    "    shutil.move(src_file, dst_file)\n"
   ]
  },
  {
   "cell_type": "code",
   "execution_count": 40,
   "id": "cafc1ba8-0e18-451f-b618-04006416d6e6",
   "metadata": {
    "execution": {
     "iopub.execute_input": "2023-04-19T06:29:11.050354Z",
     "iopub.status.busy": "2023-04-19T06:29:11.049888Z",
     "iopub.status.idle": "2023-04-19T06:29:11.114545Z",
     "shell.execute_reply": "2023-04-19T06:29:11.113309Z",
     "shell.execute_reply.started": "2023-04-19T06:29:11.050339Z"
    }
   },
   "outputs": [],
   "source": [
    "source_dir = \"/notebooks/ultrasound_50_referred/trainval/malignant\" # replace with the path to your source directory\n",
    "dest_dir = \"/notebooks/ultrasound_50_referred/test/malignant\" # replace with the path to your destination directory\n",
    "num_files = 100 # replace with the number of files you want to randomly select\n",
    "\n",
    "# Get a list of all files in the source directory\n",
    "files = os.listdir(source_dir)\n",
    "\n",
    "# Randomly select num_files from the list of files\n",
    "random_files = random.sample(files, num_files)\n",
    "\n",
    "# Move the randomly selected files to the destination directory\n",
    "for file in random_files:\n",
    "    src_file = os.path.join(source_dir, file)\n",
    "    dst_file = os.path.join(dest_dir, file)\n",
    "    shutil.move(src_file, dst_file)\n"
   ]
  }
 ],
 "metadata": {
  "kernelspec": {
   "display_name": "Python 3 (ipykernel)",
   "language": "python",
   "name": "python3"
  },
  "language_info": {
   "codemirror_mode": {
    "name": "ipython",
    "version": 3
   },
   "file_extension": ".py",
   "mimetype": "text/x-python",
   "name": "python",
   "nbconvert_exporter": "python",
   "pygments_lexer": "ipython3",
   "version": "3.9.16"
  }
 },
 "nbformat": 4,
 "nbformat_minor": 5
}
