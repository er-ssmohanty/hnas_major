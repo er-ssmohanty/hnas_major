{
 "cells": [
  {
   "cell_type": "code",
   "execution_count": 9,
   "id": "884cfbff-df13-4635-aad0-75113b26812b",
   "metadata": {
    "execution": {
     "iopub.execute_input": "2023-03-31T18:20:39.724771Z",
     "iopub.status.busy": "2023-03-31T18:20:39.723918Z",
     "iopub.status.idle": "2023-03-31T18:20:39.729097Z",
     "shell.execute_reply": "2023-03-31T18:20:39.728310Z",
     "shell.execute_reply.started": "2023-03-31T18:20:39.724743Z"
    }
   },
   "outputs": [],
   "source": [
    "import os\n",
    "import keras\n",
    "from tensorflow.keras.preprocessing import image_dataset_from_directory\n",
    "from keras.models import load_model\n",
    "from keras.preprocessing.image import ImageDataGenerator"
   ]
  },
  {
   "cell_type": "code",
   "execution_count": 16,
   "id": "02bc8328-553f-480d-a8d8-98fcb486b09e",
   "metadata": {
    "execution": {
     "iopub.execute_input": "2023-03-31T18:30:40.324169Z",
     "iopub.status.busy": "2023-03-31T18:30:40.323632Z",
     "iopub.status.idle": "2023-03-31T18:30:40.726492Z",
     "shell.execute_reply": "2023-03-31T18:30:40.725493Z",
     "shell.execute_reply.started": "2023-03-31T18:30:40.324144Z"
    }
   },
   "outputs": [
    {
     "name": "stdout",
     "output_type": "stream",
     "text": [
      "Found 4228 files belonging to 2 classes.\n",
      "Using 2960 files for training.\n",
      "Found 4228 files belonging to 2 classes.\n",
      "Using 1268 files for validation.\n"
     ]
    }
   ],
   "source": [
    "image_shape=(227,227)\n",
    "train_dir=output_data_path\n",
    "validation_dir=train_dir\n",
    "# test_dir=\"/notebooks/ultrasound/val\"\n",
    "batch_size=64\n",
    "test_train_split=0.3\n",
    "\n",
    "train_data = image_dataset_from_directory(\\\n",
    "      train_dir,color_mode=\"grayscale\",image_size=image_shape ,\\\n",
    "      subset='training',seed=5, validation_split=test_train_split,\\\n",
    "      batch_size=batch_size)\n",
    "validation_data = image_dataset_from_directory(validation_dir,\n",
    "      color_mode=\"grayscale\",image_size=image_shape, subset='validation',seed=5,\\\n",
    "      validation_split=test_train_split,batch_size=batch_size)\n",
    "# test_data = image_dataset_from_directory(test_dir,\n",
    "#       color_mode=\"grayscale\",image_size=image_shape, batch_size=batch_size)\n"
   ]
  },
  {
   "cell_type": "code",
   "execution_count": 7,
   "id": "136a480e-063f-4695-894f-e2060d1c6c5d",
   "metadata": {
    "execution": {
     "iopub.execute_input": "2023-03-31T18:20:16.934555Z",
     "iopub.status.busy": "2023-03-31T18:20:16.934170Z",
     "iopub.status.idle": "2023-03-31T18:20:16.942617Z",
     "shell.execute_reply": "2023-03-31T18:20:16.941645Z",
     "shell.execute_reply.started": "2023-03-31T18:20:16.934530Z"
    }
   },
   "outputs": [],
   "source": [
    "def data_auggment(input_data_path, output_data_path, factor_=0.5, image_shape=(227,227),batch_size=64,\\\n",
    "                  class_mode='binary', save_prefix='aug_', save_format='png',rescale=1./255,\\\n",
    "                  rotation_range=30, width_shift_range=0.2, height_shift_range=0.2,\\\n",
    "                  shear_range=0.2, zoom_range=0.2, horizontal_flip=True, fill_mode='nearest'):\n",
    "    if input_data_path[-1]!='/':\n",
    "        input_data_path+='/'\n",
    "    if output_data_path!='/':\n",
    "        output_data_path+='/'\n",
    "    \n",
    "    num_classes=os.listdir(input_data_path)\n",
    "    datagen = ImageDataGenerator(rescale=rescale, rotation_range=rotation_range,\\\n",
    "                                 width_shift_range=width_shift_range, height_shift_range=height_shift_range, \\\n",
    "                                 shear_range=shear_range, zoom_range=zoom_range, horizontal_flip=horizontal_flip,\\\n",
    "                                 fill_mode=fill_mode)\n",
    "    for i in num_classes:\n",
    "        print(input_data_path+i)\n",
    "        print(output_data_path+i)\n",
    "        \n",
    "        train_generator = datagen.flow_from_directory(\n",
    "            input_data_path+i, target_size=image_shape, batch_size=batch_size,\n",
    "            class_mode='input')\n",
    "        \n",
    "        augmented_generator = datagen.flow_from_directory(\n",
    "            input_data_path+i, target_size=image_shape, batch_size=batch_size,\\\n",
    "            class_mode='input', save_to_dir=output_data_path+i, save_prefix=save_prefix,\\\n",
    "            save_format=save_format)\n",
    "        for i in range(len(train_generator)):\n",
    "            batch = train_generator.next()\n",
    "            augmented_generator.next()\n",
    "            \n",
    "            if i >= len(train_generator) * factor_:\n",
    "                break"
   ]
  },
  {
   "cell_type": "code",
   "execution_count": 4,
   "id": "c852985f-850a-4716-b070-91e0cbfad794",
   "metadata": {
    "execution": {
     "iopub.execute_input": "2023-03-31T18:18:57.160279Z",
     "iopub.status.busy": "2023-03-31T18:18:57.158983Z",
     "iopub.status.idle": "2023-03-31T18:18:57.163952Z",
     "shell.execute_reply": "2023-03-31T18:18:57.163169Z",
     "shell.execute_reply.started": "2023-03-31T18:18:57.160237Z"
    }
   },
   "outputs": [],
   "source": [
    "input_data_path='/notebooks/thermograms/Desenvolvimento da Metodologia'"
   ]
  },
  {
   "cell_type": "code",
   "execution_count": 5,
   "id": "fca14403-f435-46e4-a2b7-586e46bd92d5",
   "metadata": {
    "execution": {
     "iopub.execute_input": "2023-03-31T18:18:58.785588Z",
     "iopub.status.busy": "2023-03-31T18:18:58.784764Z",
     "iopub.status.idle": "2023-03-31T18:18:58.789298Z",
     "shell.execute_reply": "2023-03-31T18:18:58.788273Z",
     "shell.execute_reply.started": "2023-03-31T18:18:58.785556Z"
    }
   },
   "outputs": [],
   "source": [
    "output_data_path='/notebooks/bigtherm'"
   ]
  },
  {
   "cell_type": "code",
   "execution_count": 15,
   "id": "98a83ddb-0a49-4c64-90c6-5bafd99facd1",
   "metadata": {
    "execution": {
     "iopub.execute_input": "2023-03-31T18:29:57.399255Z",
     "iopub.status.busy": "2023-03-31T18:29:57.398928Z",
     "iopub.status.idle": "2023-03-31T18:30:40.321990Z",
     "shell.execute_reply": "2023-03-31T18:30:40.321059Z",
     "shell.execute_reply.started": "2023-03-31T18:29:57.399231Z"
    }
   },
   "outputs": [
    {
     "name": "stdout",
     "output_type": "stream",
     "text": [
      "/notebooks/thermograms/Desenvolvimento da Metodologia/SAUDÁVEIS\n",
      "/notebooks/bigtherm/SAUDÁVEIS\n",
      "Found 642 images belonging to 16 classes.\n",
      "Found 642 images belonging to 16 classes.\n",
      "/notebooks/thermograms/Desenvolvimento da Metodologia/DOENTES\n",
      "/notebooks/bigtherm/DOENTES\n",
      "Found 640 images belonging to 31 classes.\n",
      "Found 640 images belonging to 31 classes.\n"
     ]
    }
   ],
   "source": [
    "data_auggment(input_data_path,output_data_path, save_prefix='aug4_',factor_=1)"
   ]
  },
  {
   "cell_type": "code",
   "execution_count": null,
   "id": "0b81b851-104e-49d5-957a-1d3fc3715eb1",
   "metadata": {},
   "outputs": [],
   "source": [
    "data_auggment(input_data_path,output_data_path)"
   ]
  },
  {
   "cell_type": "code",
   "execution_count": 18,
   "id": "b287627d-9cef-41d5-9233-58ff3716cdcb",
   "metadata": {
    "execution": {
     "iopub.execute_input": "2023-03-31T18:41:24.318349Z",
     "iopub.status.busy": "2023-03-31T18:41:24.317537Z",
     "iopub.status.idle": "2023-03-31T18:41:24.378969Z",
     "shell.execute_reply": "2023-03-31T18:41:24.377695Z",
     "shell.execute_reply.started": "2023-03-31T18:41:24.318320Z"
    }
   },
   "outputs": [
    {
     "ename": "OSError",
     "evalue": "SavedModel file does not exist at: /notebooks/hnas_major/models/hnas_thermogram_fcn_0/{saved_model.pbtxt|saved_model.pb}",
     "output_type": "error",
     "traceback": [
      "\u001b[0;31m---------------------------------------------------------------------------\u001b[0m",
      "\u001b[0;31mOSError\u001b[0m                                   Traceback (most recent call last)",
      "Cell \u001b[0;32mIn [18], line 1\u001b[0m\n\u001b[0;32m----> 1\u001b[0m model\u001b[38;5;241m=\u001b[39m\u001b[43mload_model\u001b[49m\u001b[43m(\u001b[49m\u001b[38;5;124;43m'\u001b[39;49m\u001b[38;5;124;43m/notebooks/hnas_major/models/hnas_thermogram_fcn_0\u001b[39;49m\u001b[38;5;124;43m'\u001b[39;49m\u001b[43m)\u001b[49m\n",
      "File \u001b[0;32m/usr/local/lib/python3.9/dist-packages/keras/utils/traceback_utils.py:67\u001b[0m, in \u001b[0;36mfilter_traceback.<locals>.error_handler\u001b[0;34m(*args, **kwargs)\u001b[0m\n\u001b[1;32m     65\u001b[0m \u001b[38;5;28;01mexcept\u001b[39;00m \u001b[38;5;167;01mException\u001b[39;00m \u001b[38;5;28;01mas\u001b[39;00m e:  \u001b[38;5;66;03m# pylint: disable=broad-except\u001b[39;00m\n\u001b[1;32m     66\u001b[0m   filtered_tb \u001b[38;5;241m=\u001b[39m _process_traceback_frames(e\u001b[38;5;241m.\u001b[39m__traceback__)\n\u001b[0;32m---> 67\u001b[0m   \u001b[38;5;28;01mraise\u001b[39;00m e\u001b[38;5;241m.\u001b[39mwith_traceback(filtered_tb) \u001b[38;5;28;01mfrom\u001b[39;00m \u001b[38;5;28mNone\u001b[39m\n\u001b[1;32m     68\u001b[0m \u001b[38;5;28;01mfinally\u001b[39;00m:\n\u001b[1;32m     69\u001b[0m   \u001b[38;5;28;01mdel\u001b[39;00m filtered_tb\n",
      "File \u001b[0;32m/usr/local/lib/python3.9/dist-packages/tensorflow/python/saved_model/loader_impl.py:115\u001b[0m, in \u001b[0;36mparse_saved_model\u001b[0;34m(export_dir)\u001b[0m\n\u001b[1;32m    113\u001b[0m     \u001b[38;5;28;01mraise\u001b[39;00m \u001b[38;5;167;01mIOError\u001b[39;00m(\u001b[38;5;124mf\u001b[39m\u001b[38;5;124m\"\u001b[39m\u001b[38;5;124mCannot parse file \u001b[39m\u001b[38;5;132;01m{\u001b[39;00mpath_to_pbtxt\u001b[38;5;132;01m}\u001b[39;00m\u001b[38;5;124m: \u001b[39m\u001b[38;5;132;01m{\u001b[39;00m\u001b[38;5;28mstr\u001b[39m(e)\u001b[38;5;132;01m}\u001b[39;00m\u001b[38;5;124m.\u001b[39m\u001b[38;5;124m\"\u001b[39m)\n\u001b[1;32m    114\u001b[0m \u001b[38;5;28;01melse\u001b[39;00m:\n\u001b[0;32m--> 115\u001b[0m   \u001b[38;5;28;01mraise\u001b[39;00m \u001b[38;5;167;01mIOError\u001b[39;00m(\n\u001b[1;32m    116\u001b[0m       \u001b[38;5;124mf\u001b[39m\u001b[38;5;124m\"\u001b[39m\u001b[38;5;124mSavedModel file does not exist at: \u001b[39m\u001b[38;5;132;01m{\u001b[39;00mexport_dir\u001b[38;5;132;01m}\u001b[39;00m\u001b[38;5;132;01m{\u001b[39;00mos\u001b[38;5;241m.\u001b[39mpath\u001b[38;5;241m.\u001b[39msep\u001b[38;5;132;01m}\u001b[39;00m\u001b[38;5;124m\"\u001b[39m\n\u001b[1;32m    117\u001b[0m       \u001b[38;5;124mf\u001b[39m\u001b[38;5;124m\"\u001b[39m\u001b[38;5;130;01m{{\u001b[39;00m\u001b[38;5;132;01m{\u001b[39;00mconstants\u001b[38;5;241m.\u001b[39mSAVED_MODEL_FILENAME_PBTXT\u001b[38;5;132;01m}\u001b[39;00m\u001b[38;5;124m|\u001b[39m\u001b[38;5;124m\"\u001b[39m\n\u001b[1;32m    118\u001b[0m       \u001b[38;5;124mf\u001b[39m\u001b[38;5;124m\"\u001b[39m\u001b[38;5;132;01m{\u001b[39;00mconstants\u001b[38;5;241m.\u001b[39mSAVED_MODEL_FILENAME_PB\u001b[38;5;132;01m}\u001b[39;00m\u001b[38;5;130;01m}}\u001b[39;00m\u001b[38;5;124m\"\u001b[39m)\n",
      "\u001b[0;31mOSError\u001b[0m: SavedModel file does not exist at: /notebooks/hnas_major/models/hnas_thermogram_fcn_0/{saved_model.pbtxt|saved_model.pb}"
     ]
    }
   ],
   "source": [
    "model=load_model('/notebooks/hnas_major/models/hnas_thermogram_fcn_0')"
   ]
  },
  {
   "cell_type": "code",
   "execution_count": 6,
   "id": "05a8989b-ee4e-4d18-8f12-e4610fa8aa72",
   "metadata": {
    "execution": {
     "iopub.execute_input": "2023-03-29T13:37:11.676515Z",
     "iopub.status.busy": "2023-03-29T13:37:11.676105Z",
     "iopub.status.idle": "2023-03-29T13:37:12.460837Z",
     "shell.execute_reply": "2023-03-29T13:37:12.460039Z",
     "shell.execute_reply.started": "2023-03-29T13:37:11.676487Z"
    }
   },
   "outputs": [
    {
     "name": "stdout",
     "output_type": "stream",
     "text": [
      "Found 8116 files belonging to 2 classes.\n",
      "Using 5682 files for training.\n",
      "Found 8116 files belonging to 2 classes.\n",
      "Using 2434 files for validation.\n",
      "Found 900 files belonging to 2 classes.\n"
     ]
    }
   ],
   "source": [
    "image_shape=(227,227)\n",
    "train_dir=\"/notebooks/ultrasound/train\"\n",
    "validation_dir=train_dir\n",
    "test_dir=\"/notebooks/ultrasound/val\"\n",
    "batch_size=64\n",
    "test_train_split=0.3\n",
    "\n",
    "train_data = image_dataset_from_directory(\\\n",
    "      train_dir,color_mode=\"grayscale\",image_size=image_shape ,\\\n",
    "      subset='training',seed=5, validation_split=test_train_split,\\\n",
    "      batch_size=batch_size)\n",
    "validation_data = image_dataset_from_directory(validation_dir,\n",
    "      color_mode=\"grayscale\",image_size=image_shape, subset='validation',seed=5,\\\n",
    "      validation_split=test_train_split,batch_size=batch_size)\n",
    "test_data = image_dataset_from_directory(test_dir,\n",
    "      color_mode=\"grayscale\",image_size=image_shape, batch_size=batch_size)\n"
   ]
  },
  {
   "cell_type": "code",
   "execution_count": 10,
   "id": "d9854854-0dff-4e3e-9537-31725f4aaec9",
   "metadata": {
    "execution": {
     "iopub.execute_input": "2023-03-29T13:39:15.561010Z",
     "iopub.status.busy": "2023-03-29T13:39:15.560624Z",
     "iopub.status.idle": "2023-03-29T13:39:15.590526Z",
     "shell.execute_reply": "2023-03-29T13:39:15.589487Z",
     "shell.execute_reply.started": "2023-03-29T13:39:15.560982Z"
    }
   },
   "outputs": [
    {
     "name": "stdout",
     "output_type": "stream",
     "text": [
      "Model: \"sequential_10\"\n",
      "_________________________________________________________________\n",
      " Layer (type)                Output Shape              Param #   \n",
      "=================================================================\n",
      " batch_normalization_10 (Bat  (None, 227, 227, 1)      4         \n",
      " chNormalization)                                                \n",
      "                                                                 \n",
      " conv2d_16 (Conv2D)          (None, 223, 223, 387)     10062     \n",
      "                                                                 \n",
      " max_pooling2d_16 (MaxPoolin  (None, 111, 111, 387)    0         \n",
      " g2D)                                                            \n",
      "                                                                 \n",
      " conv2d_17 (Conv2D)          (None, 108, 108, 228)     1412004   \n",
      "                                                                 \n",
      " max_pooling2d_17 (MaxPoolin  (None, 54, 54, 228)      0         \n",
      " g2D)                                                            \n",
      "                                                                 \n",
      " conv2d_18 (Conv2D)          (None, 52, 52, 403)       827359    \n",
      "                                                                 \n",
      " max_pooling2d_18 (MaxPoolin  (None, 26, 26, 403)      0         \n",
      " g2D)                                                            \n",
      "                                                                 \n",
      " flatten_10 (Flatten)        (None, 272428)            0         \n",
      "                                                                 \n",
      " dense_20 (Dense)            (None, 50)                13621450  \n",
      "                                                                 \n",
      " activation_20 (Activation)  (None, 50)                0         \n",
      "                                                                 \n",
      " dropout_10 (Dropout)        (None, 50)                0         \n",
      "                                                                 \n",
      " dense_21 (Dense)            (None, 1)                 51        \n",
      "                                                                 \n",
      " activation_21 (Activation)  (None, 1)                 0         \n",
      "                                                                 \n",
      "=================================================================\n",
      "Total params: 15,870,930\n",
      "Trainable params: 15,870,928\n",
      "Non-trainable params: 2\n",
      "_________________________________________________________________\n"
     ]
    }
   ],
   "source": [
    "model.summary()"
   ]
  },
  {
   "cell_type": "code",
   "execution_count": 8,
   "id": "d0e7fd72-07c5-45f9-9d44-a4c76b486959",
   "metadata": {
    "execution": {
     "iopub.execute_input": "2023-03-29T13:38:06.678205Z",
     "iopub.status.busy": "2023-03-29T13:38:06.677882Z",
     "iopub.status.idle": "2023-03-29T13:38:06.959787Z",
     "shell.execute_reply": "2023-03-29T13:38:06.958568Z",
     "shell.execute_reply.started": "2023-03-29T13:38:06.678180Z"
    }
   },
   "outputs": [
    {
     "name": "stdout",
     "output_type": "stream",
     "text": [
      "Found 1282 files belonging to 2 classes.\n",
      "Using 898 files for training.\n",
      "Found 1282 files belonging to 2 classes.\n",
      "Using 384 files for validation.\n"
     ]
    }
   ],
   "source": [
    "image_shape=(227,227)\n",
    "train_dir=\"/notebooks/thermograms/Desenvolvimento da Metodologia\"\n",
    "validation_dir=train_dir\n",
    "# test_dir=\"/notebooks/ultrasound/val\"\n",
    "batch_size=64\n",
    "test_train_split=0.3\n",
    "\n",
    "train_data = image_dataset_from_directory(\\\n",
    "      train_dir,color_mode=\"grayscale\",image_size=image_shape ,\\\n",
    "      subset='training',seed=5, validation_split=test_train_split,\\\n",
    "      batch_size=batch_size)\n",
    "validation_data = image_dataset_from_directory(validation_dir,\n",
    "      color_mode=\"grayscale\",image_size=image_shape, subset='validation',seed=5,\\\n",
    "      validation_split=test_train_split,batch_size=batch_size)\n",
    "# test_data = image_dataset_from_directory(test_dir,\n",
    "#       color_mode=\"grayscale\",image_size=image_shape, batch_size=batch_size)\n"
   ]
  },
  {
   "cell_type": "code",
   "execution_count": 9,
   "id": "6f93af8c-9efb-4a8f-8666-35a87528f2bf",
   "metadata": {
    "execution": {
     "iopub.execute_input": "2023-03-29T13:38:17.792584Z",
     "iopub.status.busy": "2023-03-29T13:38:17.792067Z",
     "iopub.status.idle": "2023-03-29T13:38:19.915408Z",
     "shell.execute_reply": "2023-03-29T13:38:19.914378Z",
     "shell.execute_reply.started": "2023-03-29T13:38:17.792544Z"
    }
   },
   "outputs": [
    {
     "name": "stdout",
     "output_type": "stream",
     "text": [
      "6/6 [==============================] - 2s 303ms/step - loss: 0.0083 - binary_accuracy: 0.9974\n",
      "test loss, test acc: [0.008322102017700672, 0.9973958134651184]\n"
     ]
    }
   ],
   "source": [
    "results = model.evaluate(validation_data)\n",
    "print(\"test loss, test acc:\", results)"
   ]
  },
  {
   "cell_type": "code",
   "execution_count": 11,
   "id": "d083d085-133b-40b0-a23e-7a0098fc0195",
   "metadata": {
    "execution": {
     "iopub.execute_input": "2023-03-29T13:48:43.476841Z",
     "iopub.status.busy": "2023-03-29T13:48:43.475800Z",
     "iopub.status.idle": "2023-03-29T13:48:48.499212Z",
     "shell.execute_reply": "2023-03-29T13:48:48.498352Z",
     "shell.execute_reply.started": "2023-03-29T13:48:43.476807Z"
    }
   },
   "outputs": [
    {
     "name": "stdout",
     "output_type": "stream",
     "text": [
      "15/15 [==============================] - 5s 304ms/step - loss: 0.0520 - binary_accuracy: 0.9955\n",
      "test loss, test acc: [0.052028920501470566, 0.9955456852912903]\n"
     ]
    }
   ],
   "source": [
    "results = model.evaluate(train_data)\n",
    "print(\"test loss, test acc:\", results)"
   ]
  }
 ],
 "metadata": {
  "kernelspec": {
   "display_name": "Python 3 (ipykernel)",
   "language": "python",
   "name": "python3"
  },
  "language_info": {
   "codemirror_mode": {
    "name": "ipython",
    "version": 3
   },
   "file_extension": ".py",
   "mimetype": "text/x-python",
   "name": "python",
   "nbconvert_exporter": "python",
   "pygments_lexer": "ipython3",
   "version": "3.9.16"
  }
 },
 "nbformat": 4,
 "nbformat_minor": 5
}
