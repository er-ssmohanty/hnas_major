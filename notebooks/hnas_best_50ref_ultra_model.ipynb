{
 "cells": [
  {
   "cell_type": "code",
   "execution_count": 1,
   "id": "ae87dd9b-8ebe-4798-9f8b-939cbcb0ac3d",
   "metadata": {
    "execution": {
     "iopub.execute_input": "2023-05-06T10:14:33.178498Z",
     "iopub.status.busy": "2023-05-06T10:14:33.177580Z",
     "iopub.status.idle": "2023-05-06T10:14:35.725796Z",
     "shell.execute_reply": "2023-05-06T10:14:35.724876Z",
     "shell.execute_reply.started": "2023-05-06T10:14:33.178468Z"
    }
   },
   "outputs": [],
   "source": [
    "import os\n",
    "import keras\n",
    "from tensorflow.keras.preprocessing import image_dataset_from_directory\n",
    "from keras.models import load_model\n",
    "from keras.preprocessing.image import ImageDataGenerator\n",
    "from keras.callbacks import EarlyStopping"
   ]
  },
  {
   "cell_type": "code",
   "execution_count": 2,
   "id": "f4d75781-25f6-4a39-ab60-48c1985d6e5f",
   "metadata": {
    "execution": {
     "iopub.execute_input": "2023-05-06T10:14:35.727756Z",
     "iopub.status.busy": "2023-05-06T10:14:35.727112Z",
     "iopub.status.idle": "2023-05-06T10:14:37.262691Z",
     "shell.execute_reply": "2023-05-06T10:14:37.261971Z",
     "shell.execute_reply.started": "2023-05-06T10:14:35.727729Z"
    }
   },
   "outputs": [
    {
     "name": "stdout",
     "output_type": "stream",
     "text": [
      "Found 3200 files belonging to 2 classes.\n",
      "Using 2240 files for training.\n",
      "Found 3200 files belonging to 2 classes.\n",
      "Using 960 files for validation.\n",
      "Found 200 files belonging to 2 classes.\n"
     ]
    }
   ],
   "source": [
    "image_shape=(227,227)\n",
    "train_dir='/notebooks/ultrasound_50_referred/trainval'\n",
    "validation_dir=train_dir\n",
    "test_dir=\"/notebooks/ultrasound_50_referred/test\"\n",
    "batch_size=16\n",
    "test_train_split=0.3\n",
    "\n",
    "train_data = image_dataset_from_directory(\\\n",
    "      train_dir,color_mode=\"grayscale\",image_size=image_shape ,\\\n",
    "      subset='training',seed=12, validation_split=test_train_split,\\\n",
    "      batch_size=batch_size)\n",
    "validation_data = image_dataset_from_directory(validation_dir,\n",
    "      color_mode=\"grayscale\",image_size=image_shape, subset='validation',seed=12,\\\n",
    "      validation_split=test_train_split,batch_size=batch_size)\n",
    "test_data = image_dataset_from_directory(test_dir,\n",
    "      color_mode=\"grayscale\",image_size=image_shape, batch_size=batch_size)\n"
   ]
  },
  {
   "cell_type": "code",
   "execution_count": 3,
   "id": "9da8979c-4858-4bc1-a048-faf6e1e478ee",
   "metadata": {
    "execution": {
     "iopub.execute_input": "2023-05-06T10:14:37.264213Z",
     "iopub.status.busy": "2023-05-06T10:14:37.263976Z",
     "iopub.status.idle": "2023-05-06T10:14:38.119880Z",
     "shell.execute_reply": "2023-05-06T10:14:38.119264Z",
     "shell.execute_reply.started": "2023-05-06T10:14:37.264134Z"
    }
   },
   "outputs": [],
   "source": [
    "model=load_model('/notebooks/hnas_major/models/hnas_50ref_ultra_fcn_0')"
   ]
  },
  {
   "cell_type": "code",
   "execution_count": 4,
   "id": "5a773f11-b208-4cef-9acc-4a8b396f5036",
   "metadata": {
    "execution": {
     "iopub.execute_input": "2023-05-06T10:14:38.124360Z",
     "iopub.status.busy": "2023-05-06T10:14:38.123891Z",
     "iopub.status.idle": "2023-05-06T10:14:38.150053Z",
     "shell.execute_reply": "2023-05-06T10:14:38.149559Z",
     "shell.execute_reply.started": "2023-05-06T10:14:38.124335Z"
    }
   },
   "outputs": [
    {
     "name": "stdout",
     "output_type": "stream",
     "text": [
      "Model: \"sequential_30\"\n",
      "_________________________________________________________________\n",
      " Layer (type)                Output Shape              Param #   \n",
      "=================================================================\n",
      " batch_normalization_60 (Bat  (None, 227, 227, 1)      4         \n",
      " chNormalization)                                                \n",
      "                                                                 \n",
      " conv2d_146 (Conv2D)         (None, 224, 224, 320)     5440      \n",
      "                                                                 \n",
      " max_pooling2d_77 (MaxPoolin  (None, 112, 112, 320)    0         \n",
      " g2D)                                                            \n",
      "                                                                 \n",
      " conv2d_147 (Conv2D)         (None, 109, 109, 419)     2145699   \n",
      "                                                                 \n",
      " max_pooling2d_78 (MaxPoolin  (None, 54, 54, 419)      0         \n",
      " g2D)                                                            \n",
      "                                                                 \n",
      " conv2d_148 (Conv2D)         (None, 52, 52, 172)       648784    \n",
      "                                                                 \n",
      " conv2d_149 (Conv2D)         (None, 50, 50, 65)        100685    \n",
      "                                                                 \n",
      " max_pooling2d_79 (MaxPoolin  (None, 25, 25, 65)       0         \n",
      " g2D)                                                            \n",
      "                                                                 \n",
      " conv2d_150 (Conv2D)         (None, 21, 21, 395)       642270    \n",
      "                                                                 \n",
      " conv2d_151 (Conv2D)         (None, 17, 17, 507)       5007132   \n",
      "                                                                 \n",
      " max_pooling2d_80 (MaxPoolin  (None, 16, 16, 507)      0         \n",
      " g2D)                                                            \n",
      "                                                                 \n",
      " conv2d_152 (Conv2D)         (None, 12, 12, 310)       3929560   \n",
      "                                                                 \n",
      " dropout_60 (Dropout)        (None, 12, 12, 310)       0         \n",
      "                                                                 \n",
      " conv2d_153 (Conv2D)         (None, 12, 12, 1)         311       \n",
      "                                                                 \n",
      " dropout_61 (Dropout)        (None, 12, 12, 1)         0         \n",
      "                                                                 \n",
      " batch_normalization_61 (Bat  (None, 12, 12, 1)        4         \n",
      " chNormalization)                                                \n",
      "                                                                 \n",
      " global_max_pooling2d_30 (Gl  (None, 1)                0         \n",
      " obalMaxPooling2D)                                               \n",
      "                                                                 \n",
      " activation_30 (Activation)  (None, 1)                 0         \n",
      "                                                                 \n",
      "=================================================================\n",
      "Total params: 12,479,889\n",
      "Trainable params: 12,479,885\n",
      "Non-trainable params: 4\n",
      "_________________________________________________________________\n"
     ]
    }
   ],
   "source": [
    "model.summary()"
   ]
  },
  {
   "cell_type": "code",
   "execution_count": 5,
   "id": "4d3a60c3-326e-4732-869c-ff6d3dd7cf32",
   "metadata": {
    "execution": {
     "iopub.execute_input": "2023-05-06T10:14:38.155246Z",
     "iopub.status.busy": "2023-05-06T10:14:38.155003Z",
     "iopub.status.idle": "2023-05-06T10:14:38.158286Z",
     "shell.execute_reply": "2023-05-06T10:14:38.157681Z",
     "shell.execute_reply.started": "2023-05-06T10:14:38.155192Z"
    }
   },
   "outputs": [],
   "source": [
    "callback = keras.callbacks.EarlyStopping(monitor='val_loss', patience=5)"
   ]
  },
  {
   "cell_type": "code",
   "execution_count": 6,
   "id": "f38a9c37-bc56-4a52-a8e0-3ba2d7b039da",
   "metadata": {
    "execution": {
     "iopub.execute_input": "2023-05-06T10:14:38.159100Z",
     "iopub.status.busy": "2023-05-06T10:14:38.158910Z",
     "iopub.status.idle": "2023-05-06T10:33:07.137082Z",
     "shell.execute_reply": "2023-05-06T10:33:07.135869Z",
     "shell.execute_reply.started": "2023-05-06T10:14:38.159080Z"
    }
   },
   "outputs": [
    {
     "name": "stdout",
     "output_type": "stream",
     "text": [
      "Epoch 1/100\n",
      "140/140 [==============================] - 69s 436ms/step - loss: 0.3070 - binary_accuracy: 0.9062 - val_loss: 0.5770 - val_binary_accuracy: 0.6771\n",
      "Epoch 2/100\n",
      "140/140 [==============================] - 59s 420ms/step - loss: 0.3037 - binary_accuracy: 0.9080 - val_loss: 0.4482 - val_binary_accuracy: 0.7208\n",
      "Epoch 3/100\n",
      "140/140 [==============================] - 59s 419ms/step - loss: 0.2561 - binary_accuracy: 0.9330 - val_loss: 0.2423 - val_binary_accuracy: 0.9490\n",
      "Epoch 4/100\n",
      "140/140 [==============================] - 59s 423ms/step - loss: 0.2319 - binary_accuracy: 0.9330 - val_loss: 0.2554 - val_binary_accuracy: 0.9198\n",
      "Epoch 5/100\n",
      "140/140 [==============================] - 64s 456ms/step - loss: 0.2128 - binary_accuracy: 0.9433 - val_loss: 0.3111 - val_binary_accuracy: 0.8792\n",
      "Epoch 6/100\n",
      "140/140 [==============================] - 59s 420ms/step - loss: 0.1858 - binary_accuracy: 0.9567 - val_loss: 0.2377 - val_binary_accuracy: 0.9229\n",
      "Epoch 7/100\n",
      "140/140 [==============================] - 59s 421ms/step - loss: 0.1666 - binary_accuracy: 0.9638 - val_loss: 0.2017 - val_binary_accuracy: 0.9448\n",
      "Epoch 8/100\n",
      "140/140 [==============================] - 59s 422ms/step - loss: 0.1452 - binary_accuracy: 0.9652 - val_loss: 0.2252 - val_binary_accuracy: 0.9240\n",
      "Epoch 9/100\n",
      "140/140 [==============================] - 59s 422ms/step - loss: 0.1577 - binary_accuracy: 0.9594 - val_loss: 0.1876 - val_binary_accuracy: 0.9417\n",
      "Epoch 10/100\n",
      "140/140 [==============================] - 59s 421ms/step - loss: 0.1235 - binary_accuracy: 0.9759 - val_loss: 0.1864 - val_binary_accuracy: 0.9427\n",
      "Epoch 11/100\n",
      "140/140 [==============================] - 59s 421ms/step - loss: 0.1143 - binary_accuracy: 0.9777 - val_loss: 0.1462 - val_binary_accuracy: 0.9604\n",
      "Epoch 12/100\n",
      "140/140 [==============================] - 63s 451ms/step - loss: 0.1032 - binary_accuracy: 0.9772 - val_loss: 0.1104 - val_binary_accuracy: 0.9802\n",
      "Epoch 13/100\n",
      "140/140 [==============================] - 59s 421ms/step - loss: 0.0859 - binary_accuracy: 0.9866 - val_loss: 0.1293 - val_binary_accuracy: 0.9635\n",
      "Epoch 14/100\n",
      "140/140 [==============================] - 64s 455ms/step - loss: 0.1183 - binary_accuracy: 0.9696 - val_loss: 0.1553 - val_binary_accuracy: 0.9521\n",
      "Epoch 15/100\n",
      "140/140 [==============================] - 59s 421ms/step - loss: 0.0720 - binary_accuracy: 0.9893 - val_loss: 0.1688 - val_binary_accuracy: 0.9438\n",
      "Epoch 16/100\n",
      "140/140 [==============================] - 59s 418ms/step - loss: 0.1062 - binary_accuracy: 0.9696 - val_loss: 0.1441 - val_binary_accuracy: 0.9552\n",
      "Epoch 17/100\n",
      "140/140 [==============================] - 59s 422ms/step - loss: 0.1052 - binary_accuracy: 0.9728 - val_loss: 0.1353 - val_binary_accuracy: 0.9656\n"
     ]
    }
   ],
   "source": [
    "history = model.fit(train_data,\n",
    "            epochs=100,\n",
    "            validation_data=validation_data,callbacks=[callback])"
   ]
  },
  {
   "cell_type": "code",
   "execution_count": 7,
   "id": "a055d183-74b7-47fa-a250-d134bd09f774",
   "metadata": {
    "execution": {
     "iopub.execute_input": "2023-05-06T10:33:07.139049Z",
     "iopub.status.busy": "2023-05-06T10:33:07.138528Z",
     "iopub.status.idle": "2023-05-06T10:33:12.930825Z",
     "shell.execute_reply": "2023-05-06T10:33:12.929879Z",
     "shell.execute_reply.started": "2023-05-06T10:33:07.139049Z"
    }
   },
   "outputs": [
    {
     "name": "stdout",
     "output_type": "stream",
     "text": [
      "60/60 [==============================] - 6s 95ms/step - loss: 0.1353 - binary_accuracy: 0.9656\n",
      "validation loss, validation acc: [0.13534793257713318, 0.965624988079071]\n"
     ]
    }
   ],
   "source": [
    "results = model.evaluate(validation_data)\n",
    "print(\"validation loss, validation acc:\", results)"
   ]
  },
  {
   "cell_type": "code",
   "execution_count": 8,
   "id": "de323b47-a674-4010-a930-ef4fda19e116",
   "metadata": {
    "execution": {
     "iopub.execute_input": "2023-05-06T10:33:12.932068Z",
     "iopub.status.busy": "2023-05-06T10:33:12.931819Z",
     "iopub.status.idle": "2023-05-06T10:33:15.803613Z",
     "shell.execute_reply": "2023-05-06T10:33:15.802545Z",
     "shell.execute_reply.started": "2023-05-06T10:33:12.932038Z"
    }
   },
   "outputs": [
    {
     "name": "stdout",
     "output_type": "stream",
     "text": [
      "13/13 [==============================] - 3s 216ms/step - loss: 0.1097 - binary_accuracy: 0.9750\n",
      "test loss, test acc: [0.1096811592578888, 0.9750000238418579]\n"
     ]
    }
   ],
   "source": [
    "results = model.evaluate(test_data)\n",
    "print(\"test loss, test acc:\", results)"
   ]
  },
  {
   "cell_type": "code",
   "execution_count": 9,
   "id": "5c4c1ba8-89ef-491b-b454-5ceec4823306",
   "metadata": {
    "execution": {
     "iopub.execute_input": "2023-05-06T12:32:23.686292Z",
     "iopub.status.busy": "2023-05-06T12:32:23.685918Z",
     "iopub.status.idle": "2023-05-06T12:32:32.102702Z",
     "shell.execute_reply": "2023-05-06T12:32:32.102018Z",
     "shell.execute_reply.started": "2023-05-06T12:32:23.686256Z"
    }
   },
   "outputs": [
    {
     "name": "stderr",
     "output_type": "stream",
     "text": [
      "WARNING:absl:Found untraced functions such as _jit_compiled_convolution_op, _jit_compiled_convolution_op, _jit_compiled_convolution_op, _jit_compiled_convolution_op, _jit_compiled_convolution_op while saving (showing 5 of 8). These functions will not be directly callable after loading.\n"
     ]
    },
    {
     "name": "stdout",
     "output_type": "stream",
     "text": [
      "INFO:tensorflow:Assets written to: ../models/has_50ref_fcn_retrained_0/assets\n"
     ]
    },
    {
     "name": "stderr",
     "output_type": "stream",
     "text": [
      "INFO:tensorflow:Assets written to: ../models/has_50ref_fcn_retrained_0/assets\n"
     ]
    }
   ],
   "source": [
    "model.save('../models/has_50ref_fcn_retrained_0')"
   ]
  }
 ],
 "metadata": {
  "kernelspec": {
   "display_name": "Python 3 (ipykernel)",
   "language": "python",
   "name": "python3"
  },
  "language_info": {
   "codemirror_mode": {
    "name": "ipython",
    "version": 3
   },
   "file_extension": ".py",
   "mimetype": "text/x-python",
   "name": "python",
   "nbconvert_exporter": "python",
   "pygments_lexer": "ipython3",
   "version": "3.9.16"
  }
 },
 "nbformat": 4,
 "nbformat_minor": 5
}
