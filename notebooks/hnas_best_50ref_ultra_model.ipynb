{
 "cells": [
  {
   "cell_type": "code",
   "execution_count": 1,
   "id": "ae87dd9b-8ebe-4798-9f8b-939cbcb0ac3d",
   "metadata": {
    "execution": {
     "iopub.execute_input": "2023-04-22T14:35:25.140408Z",
     "iopub.status.busy": "2023-04-22T14:35:25.139416Z",
     "iopub.status.idle": "2023-04-22T14:35:28.216186Z",
     "shell.execute_reply": "2023-04-22T14:35:28.215290Z",
     "shell.execute_reply.started": "2023-04-22T14:35:25.140376Z"
    }
   },
   "outputs": [],
   "source": [
    "import os\n",
    "import keras\n",
    "from tensorflow.keras.preprocessing import image_dataset_from_directory\n",
    "from keras.models import load_model\n",
    "from keras.preprocessing.image import ImageDataGenerator\n",
    "from keras.callbacks import EarlyStopping"
   ]
  },
  {
   "cell_type": "code",
   "execution_count": 2,
   "id": "f4d75781-25f6-4a39-ab60-48c1985d6e5f",
   "metadata": {
    "execution": {
     "iopub.execute_input": "2023-04-22T14:35:28.218527Z",
     "iopub.status.busy": "2023-04-22T14:35:28.217787Z",
     "iopub.status.idle": "2023-04-22T14:35:29.966399Z",
     "shell.execute_reply": "2023-04-22T14:35:29.965439Z",
     "shell.execute_reply.started": "2023-04-22T14:35:28.218499Z"
    }
   },
   "outputs": [
    {
     "name": "stdout",
     "output_type": "stream",
     "text": [
      "Found 3200 files belonging to 2 classes.\n",
      "Using 2240 files for training.\n",
      "Found 3200 files belonging to 2 classes.\n",
      "Using 960 files for validation.\n",
      "Found 200 files belonging to 2 classes.\n"
     ]
    }
   ],
   "source": [
    "image_shape=(227,227)\n",
    "train_dir='/notebooks/ultrasound_50_referred/trainval'\n",
    "validation_dir=train_dir\n",
    "test_dir=\"/notebooks/ultrasound_50_referred/test\"\n",
    "batch_size=64\n",
    "test_train_split=0.3\n",
    "\n",
    "train_data = image_dataset_from_directory(\\\n",
    "      train_dir,color_mode=\"grayscale\",image_size=image_shape ,\\\n",
    "      subset='training',seed=5, validation_split=test_train_split,\\\n",
    "      batch_size=batch_size)\n",
    "validation_data = image_dataset_from_directory(validation_dir,\n",
    "      color_mode=\"grayscale\",image_size=image_shape, subset='validation',seed=5,\\\n",
    "      validation_split=test_train_split,batch_size=batch_size)\n",
    "test_data = image_dataset_from_directory(test_dir,\n",
    "      color_mode=\"grayscale\",image_size=image_shape, batch_size=batch_size)\n"
   ]
  },
  {
   "cell_type": "code",
   "execution_count": 3,
   "id": "9da8979c-4858-4bc1-a048-faf6e1e478ee",
   "metadata": {
    "execution": {
     "iopub.execute_input": "2023-04-22T14:35:29.968061Z",
     "iopub.status.busy": "2023-04-22T14:35:29.967783Z",
     "iopub.status.idle": "2023-04-22T14:35:30.988459Z",
     "shell.execute_reply": "2023-04-22T14:35:30.987595Z",
     "shell.execute_reply.started": "2023-04-22T14:35:29.968035Z"
    }
   },
   "outputs": [],
   "source": [
    "model=load_model('/notebooks/hnas_major/models/hnas_50ref_ultra_fcn_0')"
   ]
  },
  {
   "cell_type": "code",
   "execution_count": 4,
   "id": "5a773f11-b208-4cef-9acc-4a8b396f5036",
   "metadata": {
    "execution": {
     "iopub.execute_input": "2023-04-22T14:35:30.990643Z",
     "iopub.status.busy": "2023-04-22T14:35:30.990368Z",
     "iopub.status.idle": "2023-04-22T14:35:31.030024Z",
     "shell.execute_reply": "2023-04-22T14:35:31.029041Z",
     "shell.execute_reply.started": "2023-04-22T14:35:30.990618Z"
    }
   },
   "outputs": [
    {
     "name": "stdout",
     "output_type": "stream",
     "text": [
      "Model: \"sequential_30\"\n",
      "_________________________________________________________________\n",
      " Layer (type)                Output Shape              Param #   \n",
      "=================================================================\n",
      " batch_normalization_60 (Bat  (None, 227, 227, 1)      4         \n",
      " chNormalization)                                                \n",
      "                                                                 \n",
      " conv2d_146 (Conv2D)         (None, 224, 224, 320)     5440      \n",
      "                                                                 \n",
      " max_pooling2d_77 (MaxPoolin  (None, 112, 112, 320)    0         \n",
      " g2D)                                                            \n",
      "                                                                 \n",
      " conv2d_147 (Conv2D)         (None, 109, 109, 419)     2145699   \n",
      "                                                                 \n",
      " max_pooling2d_78 (MaxPoolin  (None, 54, 54, 419)      0         \n",
      " g2D)                                                            \n",
      "                                                                 \n",
      " conv2d_148 (Conv2D)         (None, 52, 52, 172)       648784    \n",
      "                                                                 \n",
      " conv2d_149 (Conv2D)         (None, 50, 50, 65)        100685    \n",
      "                                                                 \n",
      " max_pooling2d_79 (MaxPoolin  (None, 25, 25, 65)       0         \n",
      " g2D)                                                            \n",
      "                                                                 \n",
      " conv2d_150 (Conv2D)         (None, 21, 21, 395)       642270    \n",
      "                                                                 \n",
      " conv2d_151 (Conv2D)         (None, 17, 17, 507)       5007132   \n",
      "                                                                 \n",
      " max_pooling2d_80 (MaxPoolin  (None, 16, 16, 507)      0         \n",
      " g2D)                                                            \n",
      "                                                                 \n",
      " conv2d_152 (Conv2D)         (None, 12, 12, 310)       3929560   \n",
      "                                                                 \n",
      " dropout_60 (Dropout)        (None, 12, 12, 310)       0         \n",
      "                                                                 \n",
      " conv2d_153 (Conv2D)         (None, 12, 12, 1)         311       \n",
      "                                                                 \n",
      " dropout_61 (Dropout)        (None, 12, 12, 1)         0         \n",
      "                                                                 \n",
      " batch_normalization_61 (Bat  (None, 12, 12, 1)        4         \n",
      " chNormalization)                                                \n",
      "                                                                 \n",
      " global_max_pooling2d_30 (Gl  (None, 1)                0         \n",
      " obalMaxPooling2D)                                               \n",
      "                                                                 \n",
      " activation_30 (Activation)  (None, 1)                 0         \n",
      "                                                                 \n",
      "=================================================================\n",
      "Total params: 12,479,889\n",
      "Trainable params: 12,479,885\n",
      "Non-trainable params: 4\n",
      "_________________________________________________________________\n"
     ]
    }
   ],
   "source": [
    "model.summary()"
   ]
  },
  {
   "cell_type": "code",
   "execution_count": 5,
   "id": "a055d183-74b7-47fa-a250-d134bd09f774",
   "metadata": {
    "execution": {
     "iopub.execute_input": "2023-04-22T14:35:31.031960Z",
     "iopub.status.busy": "2023-04-22T14:35:31.031679Z",
     "iopub.status.idle": "2023-04-22T14:35:40.049494Z",
     "shell.execute_reply": "2023-04-22T14:35:40.048789Z",
     "shell.execute_reply.started": "2023-04-22T14:35:31.031936Z"
    }
   },
   "outputs": [
    {
     "name": "stdout",
     "output_type": "stream",
     "text": [
      "15/15 [==============================] - 9s 313ms/step - loss: 0.4385 - binary_accuracy: 0.8385\n",
      "validation loss, validation acc: [0.4384614825248718, 0.8385416865348816]\n"
     ]
    }
   ],
   "source": [
    "results = model.evaluate(validation_data)\n",
    "print(\"validation loss, validation acc:\", results)"
   ]
  },
  {
   "cell_type": "code",
   "execution_count": 6,
   "id": "de323b47-a674-4010-a930-ef4fda19e116",
   "metadata": {
    "execution": {
     "iopub.execute_input": "2023-04-22T14:35:40.051629Z",
     "iopub.status.busy": "2023-04-22T14:35:40.050835Z",
     "iopub.status.idle": "2023-04-22T14:35:41.883290Z",
     "shell.execute_reply": "2023-04-22T14:35:41.882339Z",
     "shell.execute_reply.started": "2023-04-22T14:35:40.051591Z"
    }
   },
   "outputs": [
    {
     "name": "stdout",
     "output_type": "stream",
     "text": [
      "4/4 [==============================] - 2s 474ms/step - loss: 0.4037 - binary_accuracy: 0.8800\n",
      "test loss, test acc: [0.4037444591522217, 0.8799999952316284]\n"
     ]
    }
   ],
   "source": [
    "results = model.evaluate(test_data)\n",
    "print(\"test loss, test acc:\", results)"
   ]
  }
 ],
 "metadata": {
  "kernelspec": {
   "display_name": "Python 3 (ipykernel)",
   "language": "python",
   "name": "python3"
  },
  "language_info": {
   "codemirror_mode": {
    "name": "ipython",
    "version": 3
   },
   "file_extension": ".py",
   "mimetype": "text/x-python",
   "name": "python",
   "nbconvert_exporter": "python",
   "pygments_lexer": "ipython3",
   "version": "3.9.16"
  }
 },
 "nbformat": 4,
 "nbformat_minor": 5
}
